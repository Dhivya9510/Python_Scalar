{
 "cells": [
  {
   "cell_type": "code",
   "execution_count": null,
   "metadata": {},
   "outputs": [],
   "source": [
    "print(\"hello\")"
   ]
  },
  {
   "cell_type": "code",
   "execution_count": null,
   "metadata": {},
   "outputs": [],
   "source": [
    "import keyword\n",
    "print(keyword.kwlist)\n",
    "print(\"\\n Total number of keywords:\", len(keyword.kwlist))"
   ]
  },
  {
   "cell_type": "code",
   "execution_count": null,
   "metadata": {},
   "outputs": [],
   "source": [
    "for i in range(10):\n",
    "    print (i)"
   ]
  },
  {
   "cell_type": "code",
   "execution_count": null,
   "metadata": {},
   "outputs": [],
   "source": [
    "# Storage locations:\n",
    "a = 10\n",
    "print(id(a))"
   ]
  },
  {
   "cell_type": "code",
   "execution_count": null,
   "metadata": {},
   "outputs": [],
   "source": [
    "b = 10\n",
    "print(id(b))\n",
    "# Observe that a & b points to te same memory location. \n",
    "# This is due to the value assigned is same. \n",
    "# In case if its changed the memory location will differs. "
   ]
  },
  {
   "cell_type": "code",
   "execution_count": null,
   "metadata": {},
   "outputs": [],
   "source": [
    "b = 6\n",
    "c = \"sun\"\n",
    "\n",
    "print(id(b))\n",
    "print(type(b))\n",
    "print(type(c))"
   ]
  },
  {
   "cell_type": "code",
   "execution_count": null,
   "metadata": {},
   "outputs": [],
   "source": [
    "d = 1+ 2j\n",
    "print(d,\" is complex number?\")\n",
    "print(isinstance(1+2j, complex))"
   ]
  },
  {
   "cell_type": "code",
   "execution_count": null,
   "metadata": {},
   "outputs": [],
   "source": [
    "# Lists are mutable meaning that values of elements in a list can be altered. \n",
    "\n",
    "p = [10,20.5, \"Hello\"]\n",
    "print(p)\n",
    "p[1] = 30.5\n",
    "print(p)"
   ]
  },
  {
   "cell_type": "code",
   "execution_count": null,
   "metadata": {},
   "outputs": [],
   "source": [
    "# Tuple is an ordered sequence of items same as list \n",
    "# List is declared by square brackets however Tuples are declared by Parenthesis. \n",
    "# The only difference is that tuples are immutable. Tuples once created cannot be modified.\n",
    " \n",
    "q = (10,20.5, \"Hello\")\n",
    "print(q)\n",
    "q[1] = 30.5\n",
    "print(q)"
   ]
  },
  {
   "cell_type": "code",
   "execution_count": null,
   "metadata": {},
   "outputs": [],
   "source": [
    "# Set is an unordered collection of unique items. \n",
    "# Set is defined by values separated by comma ins braces {}. Items in a set are not ordered. \n",
    "# We can perform set operations like Union, Intersection on two sets. \n",
    "# Sets have unique values (means it doesn't allow duplicate values). \n",
    "\n",
    "e = {10,20,35,40,5}\n",
    "print(e)\n",
    "print(type(e))\n",
    "\n",
    "f = {20,30,30,28,27,27}\n",
    "print(f)"
   ]
  },
  {
   "cell_type": "code",
   "execution_count": null,
   "metadata": {},
   "outputs": [],
   "source": [
    "j = {a:\"apple\", b:\"ball\", c:\"cat\"}\n",
    "print(j[a])\n"
   ]
  },
  {
   "cell_type": "code",
   "execution_count": null,
   "metadata": {},
   "outputs": [],
   "source": [
    "# Conversion of data types\n",
    "\n",
    "print(int(5.9))\n",
    "print(str(20))\n",
    "print(float(8))"
   ]
  },
  {
   "cell_type": "code",
   "execution_count": null,
   "metadata": {},
   "outputs": [],
   "source": [
    "user = \"satish\"\n",
    "lines = 100\n",
    "\n",
    "print(\"Congratulations, \" + user + \"! You just wrote \" + str(lines) + \" line of code\")"
   ]
  },
  {
   "cell_type": "code",
   "execution_count": null,
   "metadata": {},
   "outputs": [],
   "source": [
    "# We can convert one sequence to other\n",
    "\n",
    "z = [10,20,30]\n",
    "print(type(z))\n",
    "l = set(z)\n",
    "print(type(l))"
   ]
  },
  {
   "cell_type": "code",
   "execution_count": null,
   "metadata": {},
   "outputs": [],
   "source": [
    "# Output formatting\n",
    "\n",
    "A = 10; B = 20  # Multiple statements in single line. \n",
    "print(\"The value of A is {} and B is {}\".format(A,B))\n",
    "\n",
    "print(\"The value of B is {1} and A is {0}\".format(A,B)) # Specify position. "
   ]
  },
  {
   "cell_type": "code",
   "execution_count": null,
   "metadata": {},
   "outputs": [],
   "source": [
    "# We can use keyword arguement to format the string:\n",
    "\n",
    "print(\"Hello {Name}, {Greetins}\".format (Name = \"satish\", Greetins = \"Good Morning.\"))"
   ]
  },
  {
   "cell_type": "code",
   "execution_count": null,
   "metadata": {},
   "outputs": [],
   "source": [
    "# We can combine positional arguements wit keyword arguements. \n",
    "\n",
    "print(\"The story of {0}, {1} and the {other}\".format (\"Bill\", \"Manfred\", other =  \"Georg\"))"
   ]
  },
  {
   "cell_type": "code",
   "execution_count": null,
   "metadata": {},
   "outputs": [],
   "source": [
    "# Inputs usually takes the input from the user. In Python, we have the input function to allow this. \n",
    "\n",
    "Number = input(\"Enter a Number: \")\n",
    "print(Number)"
   ]
  },
  {
   "cell_type": "code",
   "execution_count": null,
   "metadata": {},
   "outputs": [],
   "source": [
    "# ASSIGNMENT OPERATOR\n",
    "\n",
    "W = 10\n",
    "W += 10   # W = W + 10\n",
    "print(W)\n",
    "\n",
    "W -=10     # W = W - 10\n",
    "print(W)\n",
    "\n",
    "W *=10     # W = W * 10\n",
    "print(W)\n",
    "\n",
    "W /=10     # W = W / 10\n",
    "print(W)\n"
   ]
  },
  {
   "cell_type": "code",
   "execution_count": null,
   "metadata": {},
   "outputs": [],
   "source": [
    "# SPECIAL OPERATORS:\n",
    "   # A)\tIDENTITY OPERATORS:\n",
    "         # 'Is' and 'Is not' are the identity operators in Python. \n",
    "         # They are used to check if two values are located on the same part of the memory. \n",
    "\n",
    "a = 5\n",
    "b = 5\n",
    "print(a is b)  # 5 is object created once in both a and b points to the same object. \n",
    "\n",
    "l1 = [1,2,3]\n",
    "l2 = [1,2,3]\n",
    "print(l1 is l2) \n",
    "# See the answer. True comes only for simply int like 5.\n",
    "# [1,2,3] is likely complex hence its doubt only whether it consumes same memory or not.\n",
    "\n",
    "S1 = \"AAIC\"\n",
    "S2 = \"AAIC\" \n",
    "print(S1 is not S2)\n"
   ]
  },
  {
   "cell_type": "code",
   "execution_count": null,
   "metadata": {},
   "outputs": [],
   "source": [
    "# b) MEMBERSHIP OPERATORS:\n",
    "        # 'In' and 'Not in' are the Membership operators in Python. \n",
    "        # They are used to test whether a value or variable is found in the sequence (string, list, set, tuple and dictionary)\n",
    "\n",
    "lst = [1,2,3,4]\n",
    "print(1 in lst)   # Checked 1 is present in the given list or not. \n",
    "\n",
    "x = {a: \"van\", b : \"jack\"}   # Checked d is present in the given list or not.\n",
    "print(d in x)\n",
    "\n",
    "x = {a: \"van\", b : \"jack\"}   # Note: It can check only the keys but not values. \n",
    "print(\"van\" in x)"
   ]
  },
  {
   "cell_type": "code",
   "execution_count": null,
   "metadata": {},
   "outputs": [],
   "source": [
    "# Control flow: \n",
    "\n",
    " # a) If, elif & else statements.\n",
    "\n",
    "num = 1\n",
    "\n",
    "if num > 5:       # This is the test condition. When the \"if\" condition would not satisfied - it will go to \"elif\".\n",
    "    print(\"This number is positive\")\n",
    "elif num == 1:\n",
    "    print(\"This is number one\")\n",
    "else:\n",
    "    print(\"This is Negative\")"
   ]
  },
  {
   "cell_type": "code",
   "execution_count": null,
   "metadata": {},
   "outputs": [],
   "source": [
    "# Nested if\n",
    "\n",
    "number = 10.5\n",
    "\n",
    "if number > 10:  \n",
    "    if number == 10.5:\n",
    "        print(\"This number is greater than Ten\")\n",
    "    else:    \n",
    "        print(\"This is Positive\")  \n",
    "else:\n",
    "    print(\"This is Negative\")\n",
    "\n",
    "# When main \"if\" condition is satified - proaram will look into its inside nested conditions to perform output.\n",
    "# Otherwise it will directly go to the main \"else\" condition. "
   ]
  },
  {
   "cell_type": "code",
   "execution_count": null,
   "metadata": {},
   "outputs": [],
   "source": [
    "# Python program to find the largest element among three numbers:  \n",
    "\n",
    "num1 = 10\n",
    "num2 = 50\n",
    "num3 = 15\n",
    "\n",
    "if (num1 >=num2) and (num1 >=num3):      # This condition is False right\n",
    "    largest = num1               \n",
    "elif (num2 >=num3) and (num2 >=num1):    # This condition is True. So \"largest = num2\" gets printed.\n",
    "    largest = num2\n",
    "else:\n",
    "    largest = num3\n",
    "print(\"The largest element among three numbers is:{}\" .format(largest))"
   ]
  },
  {
   "cell_type": "code",
   "execution_count": null,
   "metadata": {},
   "outputs": [],
   "source": [
    "# b) Python WHILE LOOP:\n",
    "\n",
    "     # It is used to iterate over a block of code as long as the test expression (condition) is True. \n",
    "     # The body of the loop is entered only if the test_expression evaluates to True. \n",
    "     # After one iteration, the test expression is checked again. \n",
    "     # This process continues until the test_expression evaluates to False. \n",
    "\n",
    "# Find product of all numbers present in the list. \n",
    "\n",
    "list = [10,20,30,40,50]\n",
    "\n",
    "product = 1\n",
    "index = 0\n",
    "\n",
    "while index < len(list):     # 0 < 5. Condition is True. \n",
    "    product *= list[index]   # product =product * list[index]\n",
    "    index += 1               # index = index + 1\n",
    "print(\"Product is: {}\".format(product))\n",
    "\n",
    "list2 = [5,10,15,20,25]\n",
    "\n",
    "product = 1\n",
    "index = 0\n",
    "\n",
    "while index < len(list2):\n",
    "    product *= list2[index]\n",
    "    index += 1\n",
    "print(\"The product is: {}\".format(product))\n"
   ]
  },
  {
   "cell_type": "code",
   "execution_count": null,
   "metadata": {},
   "outputs": [],
   "source": [
    "# WHILE LOOP WITH ELSE:\n",
    "   # Same as that of for \"for\" loop, we can have an optional else block with \"while\" loop as well. \n",
    "   # The else part is executed if the condition in the \"while\" loop evaluates to False.\n",
    "   # The while loop can be terminated with a break statement. \n",
    "   # In such case, the else part is ignored. \n",
    "   # Hence, a while loop's else part runs if no break occurs and the condition is false.\n",
    "\n",
    "   # REMEMBER THAT \"INDEX\" IS CALLED \"THE ITERATION VARIABLE\". \n",
    "\n",
    "numbers = [1,2,3,4,5]\n",
    "\n",
    "# iterating over the list. \n",
    "\n",
    "index = 0\n",
    "\n",
    "while index < len(numbers):        # 0 < 5. Condition is True. \n",
    "    print (numbers[index])\n",
    "    index += 1                     # index = index + 1\n",
    "else:\n",
    "    print(\"No items left in the list\")\n"
   ]
  },
  {
   "cell_type": "code",
   "execution_count": null,
   "metadata": {},
   "outputs": [],
   "source": [
    "#c)\tPython program to check given number is prime number or not. \n",
    "\n",
    "digit = int(input(\"Enter a number: \"))\n",
    "\n",
    "isDivisable = False;\n",
    "i = 2;\n",
    "\n",
    "while i < digit:\n",
    "    if digit % i == 0:\n",
    "        isDivisable = True;\n",
    "        print(\"{} is divisable by {}\". format(digit,i))\n",
    "    i += 1;\n",
    "if isDivisable:\n",
    "    print(\"{} is NOT a prime number\".format(digit))\n",
    "else:\n",
    "    print(\"{} is a Prime number\".format(digit))"
   ]
  },
  {
   "cell_type": "code",
   "execution_count": null,
   "metadata": {},
   "outputs": [],
   "source": [
    "# d) Python FOR LOOP:\n",
    "   \n",
    "       # The FOR loop in Python is used to Iterate over a sequence (list, tuple, string) or other iterable objects. \n",
    "       # Iterating over a sequence is called Traversal. \n",
    "\n",
    "# Find product of all numbers present in the list. \n",
    "\n",
    "Lst = [10,20,30,40,50]\n",
    "\n",
    "product = 1                        # Iterating over the list. \n",
    "\n",
    "for element in Lst:\n",
    "    product *= element             # product = product * Lst   \n",
    "print(\"Product is {}\". format(product))   "
   ]
  },
  {
   "cell_type": "code",
   "execution_count": null,
   "metadata": {},
   "outputs": [],
   "source": [
    "# e) RANGE FUNCTION ()\n",
    "\n",
    "\t# We can generate a sequence of numbers using range() function. range(10) will generate numbers from 0 to 9 (10 numbers). \n",
    "    # We can also define the start, stop and step size as range(start, step size). step size defaults to 1 if not provided.\n",
    "    # This function does not store all the values in memory, it would be inefficient. \n",
    "    # So it remembers the start, stop, step size and generates the next number on the go.\n",
    "\n",
    "# print range of 10. \n",
    "\n",
    "for i in range(10):\n",
    "    print(i)\n",
    "\n",
    "# print range of numbers from 1 to 20 with step size of 2\n",
    "\n",
    "for u in range(1,20,2):\n",
    "    print(u)\n",
    "\n",
    "# Iterate using the list using FOR LOOP\n",
    "lists = [\"satish\", \"Murali\", \"Srinu\", \"henry\", \"Krish\"]\n",
    "\n",
    "for elements in lists:\n",
    "    print(elements)                      \n",
    "\n",
    "       # Iterate using the list using index \n",
    "for index in range(len(lists)):      \n",
    "    print(lists[index])   \n",
    "                                             "
   ]
  },
  {
   "cell_type": "code",
   "execution_count": null,
   "metadata": {},
   "outputs": [],
   "source": [
    "# f)\tFOR LOOP WITH ELSE:\n",
    "\n",
    "       # A \"for loop\" can have an optional else block as well. \n",
    "       # The else part is executed if the items in the sequence used in for loop exhausts (completed). \n",
    "       # break statement can be used to stop a 'for loop'. In such case, the else part is ignored. \n",
    "       # Hence, a 'for loop's'  else part runs if no break occurs.\n",
    "\n",
    "numbers1 = [1,2,3]\n",
    "\n",
    "for r in numbers1:\n",
    "    print(r)\n",
    "else:\n",
    "    print(\"no item left in the list\")\n",
    "\n",
    "for o in numbers1:\n",
    "    print(o)\n",
    "    if o == 2:\n",
    "        break\n",
    "else:\n",
    "    print(\"no item left in the list\")\n"
   ]
  },
  {
   "cell_type": "code",
   "execution_count": null,
   "metadata": {},
   "outputs": [],
   "source": [
    "# PYTHON PROGRAM TO DISPLAY ALL THE PRIME NUMBERS WITHIN AN INTERVAL\n",
    "\n",
    "index1 = 10\n",
    "index2 = 50\n",
    "print(\"Prime numbers between {} and {} are:  \".format(index1,index2))\n",
    "\n",
    "for num in range(index1,index2+1):\n",
    "        if num > 1:\n",
    "            isDivisable = False;     # remainder is something but not equal to 0.\n",
    "            for index in range(2,num):\n",
    "                if num % index == 0:\n",
    "                   isDivisable = True;\n",
    "        if not isDivisable:\n",
    "            print(num);\n",
    "        "
   ]
  },
  {
   "cell_type": "code",
   "execution_count": null,
   "metadata": {},
   "outputs": [],
   "source": [
    "# PYTHON BREAK AND CONTINUE STATEMENTS:\n",
    "    # In Python, 'Break' and 'Continue' statements can alter the flow of a normal loop.\n",
    "    # Loop iterates a block of code until the test expression is false, but sometimes we wish to terminate the current iteration or even the whole loop without checking the test expression. \n",
    "    # The 'Break & Continue' statements are used in these cases. \n",
    "\n",
    "numbers2 = [1,2,3,4]\n",
    "\n",
    "for num in numbers2:\n",
    "    if num == 4:\n",
    "        break\n",
    "    print(num);\n",
    "else:\n",
    "        print(\"In the else-block\");  \n",
    "print(\"Outside for the loop\");\n",
    "\n",
    "# Due to the condition is true, it did not even printed the line 13 because this 'else' block is inside the 'for' loop.\n"
   ]
  },
  {
   "cell_type": "code",
   "execution_count": null,
   "metadata": {},
   "outputs": [],
   "source": [
    "# I) Python program to check given number is prime number or not (Using Break)\n",
    "\n",
    "digit1 = int(input(\"Enter a number: \"))\n",
    "\n",
    "isDivisable = False;\n",
    "i = 2;\n",
    "\n",
    "while i < digit1:\n",
    "    if digit1 % i == 0:\n",
    "        isDivisable = True;\n",
    "        break\n",
    "        print(\"{} is divisable by {}\". format(digit1,i))\n",
    "    i += 1;\n",
    "if isDivisable:\n",
    "    print(\"{} is NOT a prime number\".format(digit1))\n",
    "else:\n",
    "    print(\"{} is a Prime number\".format(digit1))"
   ]
  },
  {
   "cell_type": "code",
   "execution_count": null,
   "metadata": {},
   "outputs": [],
   "source": [
    "# J) Continue Statement\n",
    "\n",
    "  # Print odd numbers present in a list. \n",
    "\n",
    "digits = [1,2,3,4,5,6,7]\n",
    "i = 2\n",
    "\n",
    "for dig in digits:\n",
    "    if digits % i == 0:\n",
    "        continue\n",
    "    print(num)\n",
    "else:\n",
    "    print(\"else-block\")\n",
    "\n",
    "\n",
    "# Understand that if condition is true, next step is continue that means dont immediately print - go to next continuation and print it. "
   ]
  },
  {
   "cell_type": "code",
   "execution_count": null,
   "metadata": {},
   "outputs": [],
   "source": [
    "# MODULE – 2: DATA STRUCTURES\n",
    "\n",
    "    # 1) LISTS: \n",
    "\n",
    "          # A data structure is a collection of data elements (such as numbers or characters or even other data structures) that is structured in some way, for example, by numbering the elements. \n",
    "          # The most basic data structure in Python is the ''sequence\". \n",
    "\n",
    "# List is one of the Sequence Data structures \n",
    "# Lists are collection of items (Strings, integers or even other lists) \n",
    "# Lists are enclosed in []. \n",
    "# Each item in the list as an assigned index value. \n",
    "# Each item in the list is separated by a comma. \n",
    "# List are mutable which means they can be changed. \n",
    "\n",
    "# List Append:\n",
    "\n",
    "list_one = [\"One\",\"Two\",\"Three\",\"Four\"]\n",
    "list_one.append(\"Five\")       # Appending\n",
    "print(list_one)\n",
    "\n",
    "# List Insert:\n",
    "\n",
    "list_two = [\"One\",\"Two\",\"Four\"]\n",
    "list_two.insert(2,\"Three\")     # Inserting\n",
    "print(list_two)\n",
    "\n",
    "# List Remove:\n",
    "\n",
    "list_three = [\"One\",\"Two\",\"Three\",\"Four\",\"Two\"]\n",
    "list_three.remove(\"Two\")   # It always removes the first occurance of the element. \n",
    "print(list_three)\n",
    "\n",
    "# List append & extend: \n",
    "\n",
    "list3 = [\"One\",\"Two\",\"Three\"]\n",
    "list4 = [\"Four\"]\n",
    "\n",
    "list3.append(list4)\n",
    "print(list3)    # ['One', 'Two', 'Three', ['Four']]  - See this result. \n",
    "\n",
    "list5 = [\"One\",\"Two\",\"Three\"]\n",
    "list6 = [\"Four\"]\n",
    "\n",
    "list5.extend(list6)\n",
    "print(list5)    # ['One', 'Two', 'Three', 'Four']  - See this result. \n",
    "\n",
    "# List Delete: \n",
    "  # We use 'Delete' when we want to remove the elemets using it's index number. \n",
    "\n",
    "list6 = [\"One\",\"Two\",\"Three\",\"Four\",\"Two\"]\n",
    "\n",
    "del list6[3]    # Note the 'delete' syntax.\n",
    "print(list6)\n",
    "\n",
    "     # or we can use pop() method\n",
    "    \n",
    "list7 = [\"One\",\"Two\",\"Three\",\"Four\",\"Two\"]\n",
    "a = list7.pop(3)\n",
    "print(a)\n",
    "print(list7)\n",
    "\n",
    "   # Four\n",
    "   # ['One', 'Two', 'Three', 'Two']     - These are the results. Note this. "
   ]
  },
  {
   "cell_type": "code",
   "execution_count": null,
   "metadata": {},
   "outputs": [],
   "source": [
    "# List Realted keywords in Python.\n",
    "    \n",
    "   # Keyword 'in' is used to test, if an item is in a list:\n",
    "list8 = [\"One\",\"Two\",\"Three\",\"Four\"]\n",
    "\n",
    "if \"Two\" in list8:\n",
    "    print(\"AI\")\n",
    "\n",
    "   # Keyword 'not' can combined with 'in': \n",
    "\n",
    "list9 = [\"One\",\"Two\",\"Three\",\"Four\"]\n",
    "\n",
    "if \"Five\" not in list9:\n",
    "    print(\"ML\")\n"
   ]
  },
  {
   "cell_type": "code",
   "execution_count": null,
   "metadata": {},
   "outputs": [],
   "source": [
    "# List Reverse\n",
    "\n",
    "list10 = [\"One\",\"Two\",\"Three\",\"Four\"]\n",
    "list10.reverse()\n",
    "print(list10)"
   ]
  },
  {
   "cell_type": "code",
   "execution_count": null,
   "metadata": {},
   "outputs": [],
   "source": [
    "# 1a) LIST SORTING:\n",
    "\n",
    "\t# The easiest way to sort a list is with the sorted(list) function.\n",
    "\t# Tat takes a list and returns a new list with those elements in a sorted order. \n",
    "\t# The original list is not changed.\n",
    "\t# The sorted() optional argument reverse = True, eg. sorted(list, reverse = True), makes it sort backwards. \n",
    "\n",
    "# create a list with numbers: \n",
    "\n",
    "list11 = [3,1,6,2,8]\n",
    "sorted_list = sorted(list11)\n",
    "print(sorted_list)\n",
    "\n",
    "# print a list in the reverse sorted order: (that is descending order)\n",
    "\n",
    "descending_order = sorted(list11, reverse=True)\n",
    "print(descending_order)\n",
    "\n",
    "# Sort the list and store it in itself\n",
    "\n",
    "list12 = [1,20,5,5,4.2]\n",
    "list12.sort()\n",
    "print(list12)\n",
    "    # Generally List accepts all datatypes.If sorted & stored itself like above case - It will not accept other datatypes. \n",
    "    # Because ascending or descending cannot be guessed in tat case. "
   ]
  },
  {
   "cell_type": "code",
   "execution_count": null,
   "metadata": {},
   "outputs": [],
   "source": [
    "# List having multiple references\n",
    "\n",
    "list13 = [1,2,3,4,5]\n",
    "abc = list13\n",
    "abc.append(6)\n",
    "print(list13)"
   ]
  },
  {
   "cell_type": "code",
   "execution_count": null,
   "metadata": {},
   "outputs": [],
   "source": [
    "# String split to create a list:\n",
    "jack =  \"One,Two,Three,Four\"\n",
    "jacklist = jack.split(',')    # Note this.\n",
    "print(jacklist)\n",
    "\n",
    "Kite = \"This is an applied AI course\"\n",
    "kitelist = Kite.split()      # Default split is WHITE CHARACTER: SPACE OR TAB\n",
    "print(kitelist)"
   ]
  },
  {
   "cell_type": "code",
   "execution_count": null,
   "metadata": {},
   "outputs": [],
   "source": [
    "# List Indexing\n",
    "# List Slicing\n",
    "\n",
    "# List extend using \"+\"\n",
    "list14 = [1,2,3,4]\n",
    "list15 = [\"Varma\",\"Naveen\",\"Murali\",\"Brama\"]\n",
    "list16 = list14 + list15\n",
    "print(list16)\n",
    "\n",
    "# List Count:\n",
    "list17 = [1,2,3,1,3,4,1,5]\n",
    "print(list17.count(1))       # Frequency of 1 in a list. "
   ]
  },
  {
   "cell_type": "code",
   "execution_count": null,
   "metadata": {},
   "outputs": [],
   "source": [
    "# List Looping\n",
    "    # Loop through a list. \n",
    "list18 = [\"One\",\"Two\",\"Three\",\"Four\"]\n",
    "for ele in list18:\n",
    "    print(ele)\n",
    "\n",
    "# List comprehension: \n",
    "      # Without List comprehension: \n",
    "squares = []\n",
    "for i in range(10):\n",
    "    squares.append(i**2)\n",
    "print(squares)\n",
    "\n",
    "       # Using List comprehension:\n",
    "squaresLC = [i**2 for i in range(10)]\n",
    "print(squaresLC)\n"
   ]
  },
  {
   "cell_type": "code",
   "execution_count": null,
   "metadata": {},
   "outputs": [],
   "source": [
    "# Create a new list with values doubled: \n",
    "list19 = [-10,-20,10,20,50]\n",
    "list19LC = [i*2 for i in list19]\n",
    "print(list19LC)\n",
    "\n",
    "# Filter the list to exclude negative numbers: \n",
    "list19 = [-10,-20,10,20,50]\n",
    "newlist19 = [i for i in list19 if i >=0]\n",
    "print(newlist19)\n",
    "\n",
    "# Create a list of tuples like (number, square of number):\n",
    "newlist = [(i,i**2) for i in range(10)]\n",
    "print(newlist)\n"
   ]
  },
  {
   "cell_type": "code",
   "execution_count": null,
   "metadata": {},
   "outputs": [],
   "source": [
    "# Nested List comprehension: \n",
    "\n",
    "Matrix = [[1,2,3,4],\n",
    "          [5,6,7,8],\n",
    "          [9,10,11,12]]    # 3*4 matrix should be 4*3 in transpose matrix.\n",
    "\n",
    "   # Transpose of a matrix without List comprehension:\n",
    "transposed = []\n",
    "for i in range(4):\n",
    "    lst=[]\n",
    "    for row in Matrix:\n",
    "        lst.append(row[i])\n",
    "    transposed.append(lst)\n",
    "print(transposed)\n",
    "\n",
    "   # With List comprehension:\n",
    "transposed1 = [[row[i] for row in Matrix] for i in range(4)]\n",
    "print(transposed1)"
   ]
  },
  {
   "cell_type": "code",
   "execution_count": null,
   "metadata": {},
   "outputs": [],
   "source": [
    "# 2) TUPLES\n",
    "\n",
    "\t# A Tuple is similar to Lists. \n",
    "\t# The difference between the two is that we can't change the elements of tuple once it is assigned whereas in the list, elements can be changed. \n",
    "\n",
    "# Only parentesis is not enough\n",
    "t = (\"Ratnam\")\n",
    "print(type(t))\n",
    "\n",
    "# Need a comma at the end.\n",
    "t1 = (\"Ratnam\",)\n",
    "print(type(t1))\n",
    "\n",
    "# parentesis is optional\n",
    "t1 = \"Ratnam\",\n",
    "print(type(t1))\n",
    "\n",
    "# Two elements do not need comma at the end.\n",
    "t2 = (\"Ratnam\",\"Jack\")\n",
    "print(type(t2))"
   ]
  },
  {
   "cell_type": "code",
   "execution_count": null,
   "metadata": {},
   "outputs": [],
   "source": [
    "# Accessing elements in Tuple\n",
    "\n",
    "T = (\"Varma\",\"Naveen\",\"Murali\",\"Brama\")\n",
    "print(T[1])\n",
    "print(T[-1])\n",
    "\n",
    "  # Nested Tuple\n",
    "T1 = (\"ABC\",(\"Varma\",\"Naveen\",\"Murali\"))\n",
    "print(T1[1])\n",
    "print(T1[1][2])\n"
   ]
  },
  {
   "cell_type": "code",
   "execution_count": null,
   "metadata": {},
   "outputs": [],
   "source": [
    "# Creating tuple \n",
    "\n",
    "T3 = (1,2,3,[5,6,7])  # Note \"list\" inside the \"tuple\" can be muteable. \n",
    "\n",
    "T3[3][1]=\"Varma\"\n",
    "print(T3)"
   ]
  },
  {
   "cell_type": "code",
   "execution_count": null,
   "metadata": {},
   "outputs": [],
   "source": [
    "# Repeat the elements in a tuple for given number of times using the * operation.\n",
    "\n",
    "tup = ((\"Varma\",)*4)\n",
    "print(tup)"
   ]
  },
  {
   "cell_type": "code",
   "execution_count": null,
   "metadata": {},
   "outputs": [],
   "source": [
    "# Tuple Deletion: \n",
    "      # We cannot change the elements in the tuple. \n",
    "      # That also means we cannot delete or remove items from a tuple.\n",
    "\n",
    "   #  Delete entire tuple using DELETE keyword\n",
    "\n",
    "T4 = [1,2,3,4,5,6]\n",
    "del T4\n",
    "print(T4)"
   ]
  },
  {
   "cell_type": "code",
   "execution_count": null,
   "metadata": {},
   "outputs": [],
   "source": [
    "# Tuple Count:\n",
    "   # Get the frequency of a particular element appears in a tuple: \n",
    "T5 = [1,2,3,1,3,4,1,1]\n",
    "print(T5.count(1))  \n",
    "\n",
    "# Tuple Index:\n",
    "\n",
    "T6 = [1,2,3,1,3,4,1,3]\n",
    "print(T6.index(3))       # return index of te first element is equal to 3. \n",
    "\n",
    "# Tuple membership:\n",
    "T6 = [1,2,3,1,3,4,1,3]  # Test if an item exists in the tuple or not, using the keyword 'in'.\n",
    "\n",
    "print(1 in T6)\n",
    "print(6 in T6)"
   ]
  },
  {
   "cell_type": "code",
   "execution_count": null,
   "metadata": {},
   "outputs": [],
   "source": [
    "# Built-in Functions:\n",
    "   # Tuple length:\n",
    "T6 = [1,2,3,1,3,4,1,3]\n",
    "print(len(T6))\n",
    "   \n",
    "    # Tuple sort\n",
    "T7 = [3,2,7,5,0,1,6,4]  \n",
    "new_T7 = sorted(T7)\n",
    "print(new_T7) \n",
    "\n",
    "T7 = [3,2,7,5,0,1,6,4]   # Decending\n",
    "new_T7 = sorted(T7, reverse=True)\n",
    "print(new_T7) \n",
    "\n",
    "# Note: 'Tuple' does not sorted and stored itself like the 'list'.  \n",
    "\n",
    "     #  Get the largest, Smallest & sum of elemens from the tuple:\n",
    "\n",
    "T7 = [3,2,7,5,0,1,6,4] \n",
    "print(max(T7))\n",
    "print(min(T7))\n",
    "print(sum(T7))"
   ]
  },
  {
   "cell_type": "code",
   "execution_count": null,
   "metadata": {},
   "outputs": [],
   "source": [
    "# 3) SETS:\n",
    "      # A set is an unordered collection of items. Every element is unique (no duplicates).\n",
    "      # The set itself is mutable. We can add or remove items from it. \n",
    "      # Sets can be used to perform mathematical set operations like Union, Intersection, Symmetric differences etc..\n",
    "\n",
    "# Set Creation:\n",
    "A = {1,2,3,4}\n",
    "print(A)\n",
    "print(type(A))\n",
    "\n",
    "# Sets does not allow duplicates. They store only one instance. \n",
    "B = {1,1,2,2,3,4,5,5,6,6,7}\n",
    "print(B)\n"
   ]
  },
  {
   "cell_type": "code",
   "execution_count": null,
   "metadata": {},
   "outputs": [],
   "source": [
    "# We can make a set from a list.             \n",
    "my_set = set([1,2,3,4,4,5,5,6])                                 # Showing error.\n",
    "print(my_set)                                                   # Showing error.\n",
    "\n",
    "# Initialize a set with a set method:\n",
    "l = set()                                                  # Showing error.\n",
    "print(type(l))                                             # Showing error."
   ]
  },
  {
   "cell_type": "code",
   "execution_count": null,
   "metadata": {},
   "outputs": [],
   "source": [
    "# Add element to a set: \n",
    "   # Set Objects does not support indexing.\n",
    "\n",
    "   # We can add single element using add() method.\n",
    "C = {2,3,7}\n",
    "C.add(5)\n",
    "print(C)\n",
    "\n",
    "   # Add Multiple elements using update() method.\n",
    "C.update([4,8,9])          # Note we should write the elements in list. \n",
    "print(C)\n",
    "  \n",
    "    # Add list and set: \n",
    "C.update([0,1],{6,10,11})   # Here you can see both the list and the set. \n",
    "print(C)"
   ]
  },
  {
   "cell_type": "code",
   "execution_count": null,
   "metadata": {},
   "outputs": [],
   "source": [
    "# Remove elemets from a Set: \n",
    "    # A particular elements can be removed from a Set using methods called 'Discard()' and 'Remove()'.\n",
    "\n",
    "# Discard\n",
    "D = {1,2,3,5,6,4}\n",
    "D.discard(4)\n",
    "print(D)\n",
    "\n",
    "# Remove also doin te same. \n",
    "D = {1,2,3,5,6,4}\n",
    "D.remove(4)\n",
    "print(D)\n",
    "\n",
    "# However See the below difference: \n",
    "D = {1,2,3,5,6,4}\n",
    "D.discard(7)    # 7 is not present in D set, eventhough 'discard' is NOT showing an error.\n",
    "print(D) \n",
    "\n",
    "D = {1,2,3,5,6,4}\n",
    "D.remove(7)\n",
    "print(D)         # 7 is not present in D set, but here 'remove' showing an error. "
   ]
  },
  {
   "cell_type": "code",
   "execution_count": null,
   "metadata": {},
   "outputs": [],
   "source": [
    "# We can also remove elements using pop() method: \n",
    "E = {1,2,3,4,5}\n",
    "E.pop()\n",
    "print(E)    # Removing a random element. \n",
    "\n",
    "# Remove all elements in a Set using Clear() method: \n",
    "E = {1,2,3,4,5}\n",
    "E.clear()\n",
    "print(E)"
   ]
  },
  {
   "cell_type": "code",
   "execution_count": null,
   "metadata": {},
   "outputs": [],
   "source": [
    "# PYTHON SET OPERATIONS: \n",
    "\n",
    "set1 = {1,2,3,4,5}\n",
    "set2 = {3,4,5,6,7}\n",
    "\n",
    "    # Union of 2 sets using '|' operator.  (Or - Operator)\n",
    "print(set1 | set2)\n",
    "\n",
    "    # Anoter way of getting Union of 2 sets is \n",
    "print(set1.union (set2))"
   ]
  },
  {
   "cell_type": "code",
   "execution_count": null,
   "metadata": {},
   "outputs": [],
   "source": [
    "set1 = {1,2,3,4,5}\n",
    "set2 = {3,4,5,6,7}\n",
    "\n",
    "# Similarly, Intersection of 2 sets using '&' operator.  (And - Operator)\n",
    "print(set1 & set2)\n",
    "\n",
    "# Anoter way of getting Intersection of 2 sets is \n",
    "print(set1.intersection(set2))"
   ]
  },
  {
   "cell_type": "code",
   "execution_count": null,
   "metadata": {},
   "outputs": [],
   "source": [
    "set1 = {1,2,3,4,5}\n",
    "set2 = {3,4,5,6,7}\n",
    "\n",
    "# Set difference: set of elements tat are only in Set1 but not in set2:\n",
    "print(set1 - set2)\n",
    "\n",
    "#  Anoter way of getting difference of 2 sets is \n",
    "print(set1.difference(set2))"
   ]
  },
  {
   "cell_type": "code",
   "execution_count": null,
   "metadata": {},
   "outputs": [],
   "source": [
    "# SYMMETRIC DIFFERENCES: SET OF ELEMENTS PRESENT, ONLY IN SET 1 AND ONLY IN SET 2.\n",
    "     # EXCEPT THOSE THAT ARE COMMON IN BOTH.   (1 u 2) – (1 n 2).\n",
    "     # USE ^ (EXPONENT) OPERATOR.\n",
    "\n",
    "set1 = {1,2,3,4,5}\n",
    "set2 = {3,4,5,6,7}\n",
    "\n",
    "print(set1 ^ set2)\n",
    "\n",
    "   # Using Symmetric difference function:\n",
    "print(set1.symmetric_difference(set2))"
   ]
  },
  {
   "cell_type": "code",
   "execution_count": null,
   "metadata": {},
   "outputs": [],
   "source": [
    "# Find ISSUBSET()\n",
    "X = {\"a\",\"b\",\"c\",\"d\",\"e\",\"f\"}\n",
    "Y = {\"c\",\"d\"}\n",
    "\n",
    "print(\"Is set 'X' is a subset of 'Y': \", X.issubset(Y))\n",
    "print(\"Is set 'Y' is a subset of 'X': \", Y.issubset(X))\n"
   ]
  },
  {
   "cell_type": "code",
   "execution_count": null,
   "metadata": {},
   "outputs": [],
   "source": [
    "# FROZEN SETS:\n",
    "   # Frozen sets has the characteristics of sets, but we can't be changed once its assigned. While tuple are immutable lists, frozen sets are immutable sets. \n",
    "   # Frozen sets can be created using the function frozenset().\n",
    "   # Sets being mutable are unhashable, so they can't be used as dictionary keys. On the other hand, frozensets are hashable and can be used as keys to a dictionary. \n",
    "   # This datatype supports methods like copy(), difference(), intersection(), isdisjoint(), issubset(), issuperset(), symmetric_difference() and union(). \n",
    "   \n",
    "    # Being immutable it does not have methods that add or remove elements. \n",
    "    # Same as Sets - Frozensets also does not have INDEXING.\n",
    "\n",
    "set3 = frozenset([1,2,3,4])\n",
    "set4 = frozenset([4,5,6,7])\n",
    "print(set3.add(5))           # AttributeError: 'frozenset' object has no attribute 'add'"
   ]
  },
  {
   "cell_type": "code",
   "execution_count": null,
   "metadata": {},
   "outputs": [],
   "source": [
    "# 4) DICTIONARY:\n",
    "\n",
    "     # Python Dictionary is an unordered collection of items. \n",
    "     # While other compound data types have only values as an element, a dictionary as a key:value pair. \n",
    "    \n",
    "     # Dictionary is nothing but a hashtable in Python. \n",
    "\n",
    "  # Create a Dictionary:\n",
    "my_dict = {}\n",
    "\n",
    "  # Dictionary with integer keys:\n",
    "D1 = {1:\"Rahul\", 2:\"henry\"}\n",
    "print(D1)\n",
    "\n",
    "  # Dictionary with mixed keys:\n",
    "D2 = {\"Name\": \"Jack\", 1: [\"abc\",\"xyz\"]}\n",
    "\n",
    "  # Create empty dictionary using dict():\n",
    "D = dict()\n",
    "print(D)\n",
    "\n",
    "  # Create a dict wit list of tuples: \n",
    "D3 = dict([(1,\"abc\"), (2,\"xyz\")])\n",
    "print(D3)"
   ]
  },
  {
   "cell_type": "code",
   "execution_count": null,
   "metadata": {},
   "outputs": [],
   "source": [
    "# Dict Access:\n",
    "\n",
    "My_Dict = {\"Name\":\"Jack\",\"Age\":27, \"Address\": \"Salem\" }\n",
    "print(My_Dict[\"Name\"])   # Should be written in list inside.\n",
    "# print(My_Dict[\"Degree\"]) # It will showing an error because \"Degree\" is not present in the dictionary. \n",
    "\n",
    "# Anoter way of accessing key:  (.get)\n",
    "print(My_Dict.get(\"Address\"))\n",
    "print(My_Dict.get(\"Degree\"))   # If key is not present, It will give none using get method.\n",
    "\n",
    "# So, it is better to use always \"get\" method so that we can avoid error by getting output as \"none\". "
   ]
  },
  {
   "cell_type": "code",
   "execution_count": null,
   "metadata": {},
   "outputs": [],
   "source": [
    "# Dict add or modify elements: \n",
    "My_Dict = {\"Name\":\"Jack\",\"Age\":27, \"Address\": \"Salem\" }\n",
    " \n",
    " # Update name:\n",
    "My_Dict[\"Name\"] = \"Raju\"\n",
    "print(My_Dict)\n",
    "\n",
    " # Add new key:\n",
    "My_Dict[\"Degree\"] = \"CSC\"\n",
    "print(My_Dict)"
   ]
  },
  {
   "cell_type": "code",
   "execution_count": null,
   "metadata": {},
   "outputs": [],
   "source": [
    "# Dict delete or remove element: \n",
    "My_Dict = {\"Name\":\"Jack\",\"Age\":27, \"Address\": \"Salem\",'Degree': 'CSC' }\n",
    "\n",
    "# Remove a particular item: \n",
    "My_Dict.pop(\"Age\")\n",
    "print(My_Dict)\n",
    "\n",
    "# popitem() removing an arbitarty key (means the key that is not choosing by us, it removed randomly)\n",
    "My_Dict.popitem()\n",
    "print(My_Dict)"
   ]
  },
  {
   "cell_type": "code",
   "execution_count": null,
   "metadata": {},
   "outputs": [],
   "source": [
    "squares = {2:4,3:9,4:16,5:25}\n",
    "del squares[2]\n",
    "print(squares)\n",
    "\n",
    "squares.clear()\n",
    "print(squares)\n",
    "\n",
    "del squares()\n",
    "print(squares)  # SyntaxError: cannot delete function call. Because 'squares' already been cleared. \n"
   ]
  },
  {
   "cell_type": "code",
   "execution_count": null,
   "metadata": {},
   "outputs": [],
   "source": [
    "# Dictionary Methods:\n",
    "squares = {2:4,3:9,4:16,5:25}\n",
    "   # Copy():\n",
    "copy = squares.copy()\n",
    "print(copy)\n",
    "\n",
    "  # From keys [seq[,v]] -> Return a new dict with keys from seq and value. \n",
    "  # NOTE THAT YOU CAN CREATE DIFFERENT KEYS WITH SAME VALUES BY THIS METHOD: \n",
    "\n",
    "subjects = {}.fromkeys([\"Maths\",\"English\",\"Science\"], 0)\n",
    "print(subjects)\n",
    "\n",
    "squares = {2:4,3:9,4:16,5:25}\n",
    "print(squares.items())   # It returns each item seperately as tuples in a list. \n",
    "\n",
    "squares = {2:4,3:9,4:16,5:25}\n",
    "print(squares.keys())   # It returns each item seperately in a list. \n",
    "\n",
    "squares = {2:4,3:9,4:16,5:25}\n",
    "print(squares.values())   # It returns each item seperately in a list. \n"
   ]
  },
  {
   "cell_type": "code",
   "execution_count": null,
   "metadata": {},
   "outputs": [],
   "source": [
    "#  Get list of all available methods and attributes of dictionary: \n",
    "dic = {}\n",
    "print(dir(dic))"
   ]
  },
  {
   "cell_type": "code",
   "execution_count": null,
   "metadata": {},
   "outputs": [],
   "source": [
    "# 'Dict comprehensions' are just like 'List comprehensions' but for dictionaries. \n",
    "D4 = {'a':1,'b':2,'c':3,'d':4}\n",
    "for pair in D4.items():\n",
    "    print(pair)\n",
    "\n",
    "# Creating a new dictionary with only pairs where the value is larger than 2. \n",
    "D4 = {'a':1,'b':2,'c':3,'d':4}\n",
    "for k,v in D4.items():\n",
    "    if v >2:\n",
    "        print(v)    # or    \n",
    "new_D4 = {k:v for k,v in D4.items() if v>2}\n",
    "print(new_D4)\n",
    "\n",
    "# We can also perform operations on the key value pairs. \n",
    "D5 = {'a':1,'b':2,'c':3,'d':4,'e':5}\n",
    "new_D5 = {k + 'c' :v *2 for k,v in D5.items() if v>2}\n",
    "print(new_D5)"
   ]
  },
  {
   "cell_type": "code",
   "execution_count": null,
   "metadata": {},
   "outputs": [],
   "source": [
    "# 5)\tSTRING:\n",
    "\n",
    "\t# A string is a Sequence of characters. \n",
    "\t# Computers do not deal with characters; they deal with numbers (binary). Even though you may see characters on your screen, internally it is stored and manipulated as a combination of 0's and l's. \n",
    "\t# This conversion of character to a number is called encoding, and the reverse process is decoding. ASCII and Unicode are some of the popular encoding used.\n",
    "\t# In Python, string is a sequence of Unicode character.\n",
    "\n",
    "    # Strings & Tuples are Immutable. While Lists, Sets and Dictionaries are Mutable. \n",
    "    # We cannot delete or remove characters from a string. \n",
    "    # But deleting the string is entirely possible using the keyword DEL.\n",
    "\n",
    "# Iterating through string: \n",
    "\n",
    "count = 0\n",
    "for l in \"Hello World\":\n",
    "    if l == \"o\":\n",
    "        count += 1\n",
    "print(count, \"letters found\")"
   ]
  },
  {
   "cell_type": "code",
   "execution_count": null,
   "metadata": {},
   "outputs": [],
   "source": [
    "# Some commonly used string methods  are LOWER(), UPPER(), JOIN(), SPLIT(),FIND(), REPLACE() etc..\n",
    "A1 = \"Hello\".lower()\n",
    "print(A1)\n",
    "A2 = \"Hello\".upper()\n",
    "print(A2)\n",
    "A3 = \"Hello, World.How are you?\".split()\n",
    "print(A3)\n",
    "\n",
    "A4 = \" \".join([\"Hello\", \"World.\",\"How\",\"are\" , \"you?\"])\n",
    "print(A4)\n",
    "A5 = \"-\".join([\"Hello\", \"World.\",\"How\",\"are\" , \"you?\"])\n",
    "print(A5)\n",
    "\n",
    "A6 = \"Good Morning\".find(\"Mo\")\n",
    "print(A6)\n",
    "A7 = \"Bad Morning\".replace(\"Bad\",\"Good\")\n",
    "print(A7)"
   ]
  },
  {
   "cell_type": "code",
   "execution_count": null,
   "metadata": {},
   "outputs": [],
   "source": [
    "# Python program to check where a given string is palindrome or not? \n",
    "   # You can understand the term palindrome (Left to Rit and Rit to left (same word)) by the below example: \n",
    "\n",
    "My_Str = 'MadaM' \n",
    "\n",
    "  # Convert entire string to either lower or upper.\n",
    "My_Str = My_Str.lower()   # To make it as uniform-case.\n",
    "print(My_Str)\n",
    "\n",
    "  # Reverse string\n",
    "Rev_Str = reversed(My_Str)\n",
    "\n",
    "  # Check if the string is equal to its reverse.\n",
    "if list(My_Str) == list(Rev_Str):        \n",
    "    print('Given string is Palindrome')\n",
    "else:\n",
    "    print('Given string is not a Palindrome')\n",
    "    \n",
    "# My_Str and Rev_Str - both stored in different location in its memory. \n",
    "# To have both in same place, convert that into list. "
   ]
  },
  {
   "cell_type": "code",
   "execution_count": null,
   "metadata": {},
   "outputs": [],
   "source": [
    "# Python program to sort words in Alphabetic order: \n",
    "\n",
    "MyStr = 'python Program to Sort words in Alphabetic Order'\n",
    "\n",
    "# Breakdown te string into list of words: \n",
    "words = MyStr.split()\n",
    "print(words)\n",
    "\n",
    "# Sort the list: \n",
    "words.sort(reverse=False)\n",
    "\n",
    "# print sorted words are: \n",
    "for word in words:\n",
    "    print(word)"
   ]
  },
  {
   "cell_type": "code",
   "execution_count": null,
   "metadata": {},
   "outputs": [],
   "source": [
    "# MODULE – 3 FUNCTIONS\n",
    "\n",
    "   # CHAPTER 1 - INTRODUCTION:\n",
    "\n",
    "       # PYTHON FUNCTIONS: \n",
    "           # Function is a group of related statements that perform a specific task. \n",
    "           # Functions help break our program into smaller and modular chunks. \n",
    "           # As our program rows larger and larger, functions make it more organized and manageable. \n",
    "           # It avoids repetition and makes code reuseable. \n",
    "\n",
    "        # SYNTAX: \n",
    "            # Def function_name(parameters):\n",
    "            #      \" \" \"\n",
    "            #        Doc string\n",
    "            #      \" \" \"\n",
    "            #        Statement(s)\n",
    " \t\n",
    "# Keyword \"def\" marks the start of function header. \n",
    "# Parameters (arguments) through which we pass values to a function. These are optional. \n",
    "# A colon( : ) to mark the end of function header. \n",
    "# Doc string describes wat the function does. This is optional. \n",
    "# \"Return\" statement is to return the value from the function. This is optional. "
   ]
  },
  {
   "cell_type": "code",
   "execution_count": null,
   "metadata": {},
   "outputs": [],
   "source": [
    "# EXAMPLE: \n",
    "\n",
    "def function_name (name):\n",
    "    \"\"\"\n",
    "    This function prints the name\n",
    "    \"\"\"\n",
    "    print(\"Hello \" + str(name))\n",
    "\n",
    "# Function call:\n",
    "function_name(\"Hari\")\n",
    "\n",
    " \t# DOC STRING: \n",
    " \t    # The first string after the function header is called the 'docstring' and is sort for documentation string. \n",
    " \t    # Although optional, documentation is a good programming practice, always document your code. \n",
    " \t    # Doc String will be written in triple quotes, so that 'docstring' can be extend up to the multiple lines. \n",
    "\n",
    "print(function_name.__doc__)   "
   ]
  },
  {
   "cell_type": "code",
   "execution_count": null,
   "metadata": {},
   "outputs": [],
   "source": [
    "# Variables can have 'underscore _ 'at the beginning. Its perfectly okey in Python\n",
    "\n",
    "def get_sum (lists):\n",
    "    \"\"\"\n",
    "    This function returns the sum of all elements in the list\n",
    "    \"\"\"\n",
    "\n",
    "  # Initialize sum:\n",
    "    _sum = 0\n",
    "\n",
    "  # Iterating over the list:\n",
    "    for num in lists:\n",
    "        _sum += num\n",
    "    return _sum\n",
    "\n",
    "S3 = get_sum([1,2,3,4])\n",
    "print(S3)\n"
   ]
  },
  {
   "cell_type": "code",
   "execution_count": null,
   "metadata": {},
   "outputs": [],
   "source": [
    "# print doc_string statement\n",
    "print(get_sum.__doc__)"
   ]
  },
  {
   "cell_type": "code",
   "execution_count": null,
   "metadata": {},
   "outputs": [],
   "source": [
    "# SCOPE AND LIFE TIME OF VARIABLES: \n",
    "   # Scope of a variable is the portion of a program where the variable is recognized \n",
    "   # Variables defined inside a function is not visible from outside. Hence, they have a local scope. -> Lifetime of a variable is the period throughout which the variable exists in the memory.\n",
    "   # The lifetime of variables inside a function is as long as the function executes. \n",
    "   # Variables are destroyed once we return from the function. \n",
    "\n",
    "# Local variables can be used only inside the function. That is the level of scope on it. \n",
    "# Once we come out of the function – Local variable cannot be accessed anymore. \n",
    "\n",
    "# ITERATE – Accessing the elements one after the other\n",
    "\n",
    "global_variable = \"This is a global variable\"\n",
    "\n",
    "def test_lifetime():\n",
    "    \"\"\"\n",
    "    This function tests the lifetime of a variable\n",
    "    \"\"\"\n",
    "    local_variable = \"This is a local variable\"\n",
    "    print(local_variable)\n",
    "    print(global_variable)\n",
    "\n",
    "test_lifetime()\n",
    "print(global_variable)\n",
    "print(local_variable)  # This will raise an error because it is inside function, we cannot access seperately. "
   ]
  },
  {
   "cell_type": "code",
   "execution_count": null,
   "metadata": {},
   "outputs": [],
   "source": [
    "# PYTHON PROGRAM TO PRINT THE HIGHEST COMMON FACTOR (HCF) OF TWO NUMBERS.\n",
    "\n",
    "num1 = 34\n",
    "num2 = 68\n",
    "\n",
    "hcf =  1  # Initializing\n",
    "def computehcf(a,b):\n",
    "    smallest = b if a>b else a\n",
    "    for i in range(1,smallest+1):\n",
    "        if (a % i == 0) and (b % i ==0):\n",
    "            hcf = i\n",
    "    return hcf\n",
    "print(\"HCF of {} and {} is {}\".format(num1,num2,computehcf(num1,num2)))"
   ]
  },
  {
   "cell_type": "code",
   "execution_count": null,
   "metadata": {},
   "outputs": [],
   "source": [
    "# TYPES OF FUNCTIONS: \n",
    "     # Built-in Functions\n",
    "     # User-defined Functions.\n",
    "\n",
    "# Built-in Functions\n",
    "   # abs()  \n",
    "   # Find the absolute value.\n",
    "num4 = -100\n",
    "print(abs(num4))\n",
    "\n",
    "   # all()  - It returns Boolean values when Non-Zero present, it returns True. If Zero persent, it returns False.\n",
    "            # Empty lists always returns True. \n",
    "            # It can be of any data types. \n",
    "num5 = [1,4,6,10]\n",
    "print(all(num5)) \n",
    "\n",
    "num6 = (1,3,5,7,0)\n",
    "print(all(num6))\n",
    "  \n",
    "num7 = []\n",
    "print(all(num7))\n",
    "\n",
    "num8 = [False, 1,2]\n",
    "print(all(num8))"
   ]
  },
  {
   "cell_type": "code",
   "execution_count": null,
   "metadata": {},
   "outputs": [],
   "source": [
    "# DIR() \n",
    "    # The dir(), tries to return a list of valid attributes of the object. \n",
    "\t# If the object has dir() method, the method will be called and must return the list of attributes.\n",
    "\t# If the object does not have dir() method, this method tried to find information from the dict. attribute (if defined), and from type object. In this case, the list returned from dir() may not be complete. \n",
    "\n",
    "num9 = [1,2,3,4]\n",
    "print(dir(num9))"
   ]
  },
  {
   "cell_type": "code",
   "execution_count": null,
   "metadata": {},
   "outputs": [],
   "source": [
    "# DIVMOD()\n",
    "  # The Divmod() method takes two numbers and returns a pair of numbers (a tuple) consisting of their quotient and remainder.\n",
    "\n",
    "print(divmod(9,2))  # note its syntax."
   ]
  },
  {
   "cell_type": "code",
   "execution_count": null,
   "metadata": {},
   "outputs": [],
   "source": [
    "# ENUMERATE()\n",
    "  # The Enumerate method add counter to an iterable and returns it. \n",
    "  # Enumerate returns me pairs of numbers that means numbers with it 's index. \n",
    "  # Syntax: enumerate(iterable, start= 0)\n",
    "  # Note above that start = 0, means index should be start with 0, if we give any other number – for example: 5. See below: \n",
    "\n",
    "num10 = [10,20,30,40]\n",
    "for index, numbers in enumerate(num10,0):    # enumerate should have pairs of numbers. So, wrote index, numbers.\n",
    "    print(\"Index {} has value {}\".format(index,numbers))\n",
    "\n",
    "num11 = [11,22,33,44]\n",
    "for index,numbers in enumerate(num11,5):\n",
    "    print(\"Index {} has value {}\".format(index,numbers))"
   ]
  },
  {
   "cell_type": "code",
   "execution_count": null,
   "metadata": {},
   "outputs": [],
   "source": [
    "# FILTER():\n",
    "   # The filter () method constructs an iterator from elements of an iterable for which a function returns true. \n",
    "   # Syntax: filter (function, iterable) \n",
    "\n",
    "def find_positive_number(num):\n",
    "    \"\"\"\n",
    "    This function returns the positive number if the number is positive\n",
    "    \"\"\"\n",
    "    if num > 0:\n",
    "        return num\n",
    "    \n",
    "number_list = range(-10,10)\n",
    "positive_number = list(filter(find_positive_number,number_list))   # Note to write 'list'\n",
    "print(list(number_list))   # Note to write 'list'\n",
    "print(positive_number)"
   ]
  },
  {
   "cell_type": "code",
   "execution_count": null,
   "metadata": {},
   "outputs": [],
   "source": [
    "# ISINSTANCE():\n",
    "    # The isinstance () function checks if the object (first argument) is an instance or subclass of classinfo class (second argument).\n",
    "    # Syntax: isinstance(object, classinfo) \n",
    "    # (Basically isinstance () is nothing but to check whether the variable is given inputted datatype or not. \n",
    "    # If its true it returns Boolean value called 'True' otherwise 'False'). \n",
    "\n",
    "num12 = [11,12,13,14]\n",
    "\n",
    "instance = isinstance(num12,tuple)\n",
    "print(instance)    # Answer is False - because num12 is a list. \n",
    "\n",
    "instance1 = isinstance(num12,list)\n",
    "print(instance1)"
   ]
  },
  {
   "cell_type": "code",
   "execution_count": null,
   "metadata": {},
   "outputs": [],
   "source": [
    "# MAP():\n",
    "   # Map() applies a function to all the items in an input_list.\n",
    "   # Syntax: map(function_to_apply, list_of_inputs)\n",
    "\n",
    "num13 = [1,2,3,4]\n",
    "\n",
    "# Normal method of computing num13 ^2 for each element in the list. \n",
    "squared=  []\n",
    "for num in num13:\n",
    "    squared.append(num**2)\n",
    "print(squared)\n",
    "\n",
    "# Using Map method:\n",
    "def poweroftwo(numb):\n",
    "    return numb ** 2  # Note here are no brackets.\n",
    "\n",
    "squared1 = list(map(poweroftwo,num13))\n",
    "print(squared1)"
   ]
  },
  {
   "cell_type": "code",
   "execution_count": null,
   "metadata": {},
   "outputs": [],
   "source": [
    "# REDUCE():\n",
    "    # Reduce() function is for performing some computations on a list and returning the result. \n",
    "    # It applies a rolling computation to sequential pairs of values in a list. \n",
    "\n",
    "# Product of all elements in below list.\n",
    "num14 = [3,5,6,1]\n",
    "\n",
    "   # Traditional metod:\n",
    "product = 1\n",
    "for num in num14:\n",
    "    product *= num  # product = product * num14\n",
    "print(product)\n",
    "\n",
    "   # usin reduce() function:\n",
    "from functools import reduce \n",
    "\n",
    "def multiply(x,y):\n",
    "    return x * y\n",
    "\n",
    "product1 = reduce(multiply,num14)\n",
    "print(product1)\n",
    "\n",
    "def add(x,y):\n",
    "    return x + y\n",
    "add = reduce(add,num14)\n",
    "print(add)"
   ]
  },
  {
   "cell_type": "code",
   "execution_count": null,
   "metadata": {},
   "outputs": [],
   "source": [
    "num15 = [3,5,6,1]\n",
    "add = 0\n",
    "for num in num15:\n",
    "    add += num  # add = add + num\n",
    "print(add)"
   ]
  },
  {
   "cell_type": "code",
   "execution_count": null,
   "metadata": {},
   "outputs": [],
   "source": [
    "# 2.\tUSER-DEFINED FUNCTIONS: \n",
    "       # Functions that we define ourselves to do certain specific task are referred as 'User-defined functions '.\n",
    "       # If we use functions written by others in the form of library, it can be termed as 'library functions '. \n",
    "\n",
    "# ADVANTAGES: \n",
    "  # 'User-defined functions ' help to decompose a large program into small segments which makes program easy to understand, maintain and debug. \n",
    "  # If repeated code occurs in a program, function can be used to include those codes and execute wen needed by calling tat function. \n",
    "  # Programmers working on large project can divide the workload by making different functions. \n",
    "\n",
    "numA = 10\n",
    "numB = 20\n",
    "def product_numbers(x,y):\n",
    "    product = x * y;\n",
    "    return product\n",
    "print(\"product of {} and {} is {}\".format(numA,numB,product_numbers(numA,numB)))\n"
   ]
  },
  {
   "cell_type": "code",
   "execution_count": null,
   "metadata": {},
   "outputs": [],
   "source": [
    "def Add(a,b):\n",
    "    return a + b\n",
    "def Subtract(a,b):\n",
    "    return a - b\n",
    "def Multiply(a,b):\n",
    "    return a * b\n",
    "def Divide(a,b):\n",
    "    return a / b\n",
    "\n",
    "print(\"Select option\")\n",
    "print(\"1.Addition\")\n",
    "print(\"2.Subtraction\")\n",
    "print(\"3.Multiplication\")\n",
    "print(\"4.Division\")\n",
    "\n",
    "# take input from User: \n",
    "choice = int(input(\"Enter choice 1/2/3/4\"))\n",
    "\n",
    "Num1 = int(input(\"Enter first number: \"))\n",
    "Num2 = int(input(\"Enter second number: \"))\n",
    "\n",
    "if choice == 1:\n",
    "    print(\"Addition of {0} and {1} is {1}\".format(Num1,Num2,Add(Num1,Num2)))\n",
    "elif choice == 2:\n",
    "    print(\"Subtraction of {} and {} is {}\".format(Num1,Num2,Subtract(Num1,Num2)))\n",
    "elif choice == 3:\n",
    "    print(\"Product of {} and {} is {}\".format(Num1,Num2,Multiply(Num1,Num2)))\n",
    "elif choice == 4:\n",
    "    print(\"Division of {} and {} is {}\".format(Num1,Num2,Divide(Num1,Num2)))\n",
    "else:\n",
    "    print(\"Invalid choice\")\n"
   ]
  },
  {
   "cell_type": "code",
   "execution_count": null,
   "metadata": {},
   "outputs": [],
   "source": [
    "# FUNCTION ARGUMENTS\n",
    "\n",
    "def Greet(name, message):\n",
    "    \"\"\"\n",
    "    This function greets to person with the provided message \n",
    "    \"\"\"\n",
    "    print (\"Hello {0}, {1}\".format(name,message))\n",
    "\n",
    "  # call the function with arguments\n",
    "Greet (\"Sathish\", \"Good Morning\")\n",
    " \n",
    "  # Suppose, if we pass only one argument – we will get an error. \n"
   ]
  },
  {
   "cell_type": "code",
   "execution_count": null,
   "metadata": {},
   "outputs": [],
   "source": [
    "# DIFFERENT FORMS OF ARGUMENT: \n",
    "\n",
    "    # A)\tDEFAULT ARGUMENT:\n",
    "          # We can provide a default value to an argument by using the assignment operator(=)\n",
    "\n",
    "def greet(name, message = \"Good Morning\"):\n",
    "    \"\"\"\n",
    "    This function greets to person with the provided message.\n",
    "    If message is not provided, it defaults to 'Good Morning'\n",
    "    \"\"\"\n",
    "    print(\"Hello {0}, {1}\".format(name,message))\n",
    "    \n",
    "greet(\"Sathish\",\"Good Night\" )    \n",
    "\n",
    "      # Suppose, if we pass only one argument – we will NOT get an error here. \n",
    "\n",
    "greet(\"Sathish\") \n",
    "\n",
    "# Once we have a default argument, all argument to it's right must also have default values. \n",
    "    # def greet(msg = \"Good Morning \", name)\n",
    "# we will get a Syntax Error: non-default argument follows default argument. \n",
    "\n",
    "# It's a good practice that always keep your Default arguments at the end of your argument. "
   ]
  },
  {
   "cell_type": "code",
   "execution_count": null,
   "metadata": {},
   "outputs": [],
   "source": [
    "# b)\tKEYWORD ARGUMENTS:\n",
    "\n",
    "       # \"Kwargs\" allows you to pass keyworded variable length of arguments to a function. \n",
    "       # You should use   **kwargs if you want to handle name arguments in a function. \n",
    "   \n",
    "       # (Unlike writing arguments in 'def' function – we directly mentioned 'kwargs' seperately with a list with arguments)\n",
    "       # Also need to mention argment with value while call it. \n",
    "    \n",
    "def greet(**kwargs):\n",
    "    if kwargs:\n",
    "        print(\"Hello {0}, {1}\".format(kwargs[\"name\"],kwargs[\"message\"]))\n",
    "    \n",
    "greet(name = \"Sathish\",message = \"Good Night\",address = \"Cmbtre\")  \n",
    "\n",
    "# **kwargs is considered here as the overall one heading of all the keys and values.\n",
    "#Eventhough we give number of 'keywords with values' when calling the function.kwards will print only whatever keywords it has. \n",
    "#Example here we have only 'name' and 'message' keywords. We leave 'address' keyword. So it prints only 'name' and 'message'. "
   ]
  },
  {
   "cell_type": "code",
   "execution_count": null,
   "metadata": {},
   "outputs": [],
   "source": [
    "# c) ARBITARY ARUMENTS:\n",
    "\n",
    "      # Sometimes, we do not know in advance the number of arguments that will be passed in to a function. \n",
    "      # Python allows us to handle this kind of situation through function calls with arbitrary number of arguments. \n",
    "\n",
    "def greet(*names):    # ARBITARY ARUMENTS has one star.\n",
    "    \"\"\"\n",
    "    This function greets all persons with the provided message in names tuple.\n",
    "    \"\"\"\n",
    "    print(names)\n",
    "    for name in names:\n",
    "        print(\"Hello {0}\".format(name) )\n",
    "        \n",
    "greet(\"Murali\",\"Jack\",\"Kavin\",\"Samuel\")\n",
    "\n",
    "# '*names' is considered here as the overall one heading of the list of array. (ere iven as tuples)\n",
    "# When calling a function - it should not be like list.\n",
    "# 'in' function automatically iterates the index one after oter. We need not to mention seperately.  "
   ]
  },
  {
   "cell_type": "code",
   "execution_count": null,
   "metadata": {},
   "outputs": [],
   "source": [
    "def greet(*numbers):    \n",
    "\n",
    "    print(numbers)\n",
    "    total = 0\n",
    "    for num in numbers:\n",
    "        total += num  # total = total +  num\n",
    "    print(\"Sum = {0}\". format(total))\n",
    "        \n",
    "greet(2,6,4,76,45)"
   ]
  },
  {
   "cell_type": "code",
   "execution_count": null,
   "metadata": {},
   "outputs": [],
   "source": [
    "# RECURSION:\n",
    "   # We know that in Python, a function can call other functions, it is even possible for the function to call itself. These types of constructs are termed as Recursive function. \n",
    "        # Factorial of 5 -> 5*4*3*2*1 = 120\n",
    "        # Factorial of 5 -> 5 * factorial (4) -> means 5*4*3*2*1\n",
    "        # Factorial(n) = n – factorial(n-1)\n",
    "        # But Factorial (1) = 1 itself. Not 1*0=0   (called as Boundary case)\n",
    "        # Factorial (0) = 0 itself. \n",
    "\n",
    "   # Non-Recursive definition be like Factorial (n) = n * (n-1) * (n-2) * (n-3)…\n",
    "\n",
    "# Example: Python program to print Factorial of a number using Recursion:\n",
    "\n",
    "def factorial(num):\n",
    "     \"\"\" Tis is a recursive function to find te factorial of a iven number \"\"\"\n",
    "     return 1 if num == 1 else(num * factorial(num - 1))\n",
    "\n",
    "num = 5\n",
    "print(\" Factorial of {} is {}\".format(num, factorial(num)))\n"
   ]
  },
  {
   "cell_type": "code",
   "execution_count": null,
   "metadata": {},
   "outputs": [],
   "source": [
    "# ADVANTAGES: \n",
    "   # Recursive functions make the code look clean and elegant. \n",
    "   # A complex task can be broken down into simpler sub-problems using Recursion.\n",
    "   # Sequence generation is easier with recursion than using some nested iteration.\n",
    "# DISADVANTAGES:\n",
    "   # Sometimes the logic behind recursion is hard to follow through.\n",
    "   # Recursive calls are expensive (inefficient) as they take up a lot of memory and time.\n",
    "   # Recursive functions are hard to debug. "
   ]
  },
  {
   "cell_type": "code",
   "execution_count": null,
   "metadata": {},
   "outputs": [],
   "source": [
    "# Python program to display Fibonacci sequence upto n-th term using Recursive function:\n",
    "\n",
    "  #  Fibonacci number is the number which is the sum of previous two numbers. \n",
    "  #  Fibonacci function is called as the 'Recursive Equation'. \n",
    "\n",
    "def fibonacci(num):\n",
    "    \"\"\" Recursive function to print Fibonacci sequence \"\"\"\n",
    "    return num if num <= 1 else fibonacci(num - 1) + fibonacci(num-2)\n",
    "\n",
    "nterms = 10\n",
    "print(\"fibonacci_sequence\")\n",
    "for num in range(nterms):\n",
    "    print(fibonacci(num))  "
   ]
  },
  {
   "cell_type": "code",
   "execution_count": null,
   "metadata": {},
   "outputs": [],
   "source": [
    "# ANONYMOUS / LAMBDA FUNCTION:\n",
    "    # In Python, Anonymous function is a function that is defined without a name.\n",
    "    # Wile normal functions are defined using the ' def’ keyword, in python anonymous functions are defined using the ' lambda' keyword. \n",
    "    # Lambda functions are used extremely along with the built-in functions like filter (), map (), reduce ()\n",
    "    # Syntax:\n",
    "             # Lambda arguments: expression. "
   ]
  },
  {
   "cell_type": "code",
   "execution_count": null,
   "metadata": {},
   "outputs": [],
   "source": [
    "# Do doubling the number:\n",
    "\n",
    "    # Normal metod:\n",
    "def double(x):\n",
    "    return(x*2)\n",
    "print(double(5))\n",
    "\n",
    "     # Using Lambda:\n",
    "double = lambda x : x*2\n",
    "print(double(5))"
   ]
  },
  {
   "cell_type": "code",
   "execution_count": null,
   "metadata": {},
   "outputs": [],
   "source": [
    "# Example used with Filter()\n",
    "list20 = [1,2,3,4,5]\n",
    "even_lst = list(filter(lambda x : (x % 2 == 0), list20))\n",
    "print(even_lst)\n",
    "\n",
    "# Example used with Map()) - Map is enerally used to et POWER values. \n",
    "list20 = [1,2,3,4,5]\n",
    "new_lst = list(map(lambda x : (x **2),list20))\n",
    "print(new_lst)\n",
    "\n",
    "# Example used with Reduce()  - Reduce is used like below so far I could saw it for getting PRODUCT values. \n",
    "list20 = [1,2,3,4,5]\n",
    "product = reduce(lambda x,y : (x *y),list20)\n",
    "print(product)"
   ]
  },
  {
   "cell_type": "code",
   "execution_count": null,
   "metadata": {},
   "outputs": [],
   "source": [
    "# MODULES \n",
    "   # Modules refer to a file containing Python statements and definitions. \n",
    "   # A file containing Python code, for e.g.: abc.py - is called a module and it's module name would be 'abc'.\n",
    "   # We use modules to break down large programs into small manageable and organized files. Furthermore, modules provide reusability of code.\n",
    "   # (Means that there are already a number of pre-written simple to complex codes by experts.  \n",
    "   # We can use that codes in our projects so that we can save time because there is no need to write our code from the scratch).  \n",
    "   # We can define our most used functions in a module and import it, instead of copying their definitions into different programs. \n",
    "\n",
    "   # Example: import numpy \n",
    "             # import pandas\n",
    "             # import seaborn     # here Numpy, Pandas, Seaborn are some of the modules. \n",
    "   # Using the module name – we can access the function using .dot() operation.\n",
    "\n",
    "   # Python has lots of standard modules available.\n",
    "             # https://docs.python.org/3/py-modindex.html"
   ]
  },
  {
   "cell_type": "code",
   "execution_count": null,
   "metadata": {},
   "outputs": [],
   "source": [
    "# Example: \n",
    "import math\n",
    "print(math.pi)\n",
    "\n",
    "import datetime\n",
    "print(datetime.datetime.now())  # note that datetime is written twice. One 'datetime' is module and the other 'datetime ' is datatype/ class.  \n",
    "\n",
    "# Import with renaming:\n",
    "import math as m\n",
    "print(m.pi)"
   ]
  },
  {
   "cell_type": "code",
   "execution_count": null,
   "metadata": {},
   "outputs": [],
   "source": [
    "# from...import statement\n",
    "  # We can import specific names from a module without importing the module as a whole.\n",
    "\n",
    "from datetime import datetime\n",
    "print(datetime.now())           # compare the above cell with this cell code for importing. "
   ]
  },
  {
   "cell_type": "code",
   "execution_count": null,
   "metadata": {},
   "outputs": [],
   "source": [
    "# import all names:\n",
    "from math import *\n",
    "print(\"The value of Pi is\", pi)\n",
    "\n",
    "# dir() built-in function: \n",
    "   # We can use te dir() function to find out names tat are defined inside a module. \n",
    "import math\n",
    "dir(math)\n",
    "\n",
    "print(math.__doc__)  \n",
    "# __doc__ is noting but the pre-written document string that will be visible for us when we use __doc__.\n"
   ]
  },
  {
   "cell_type": "code",
   "execution_count": 40,
   "metadata": {},
   "outputs": [],
   "source": [
    "# PACKAGE:\n",
    "   # Packages are a way of structuring pythons module namespace by using  \"dotted module names \". \n",
    "   # A directory must contain a file name init.py in order for python to consider it as a package. \n",
    "   # This file can be left empty but we generally place the initialization code for that package in this file. \n",
    "\n",
    "   # We can import modules from packages using the dot() operator\n",
    "       # game.image.open"
   ]
  },
  {
   "cell_type": "code",
   "execution_count": null,
   "metadata": {},
   "outputs": [],
   "source": [
    "# FILE I/0 (Input/ Output)\n",
    "   # File is a named location on disk to store related information. It is used to permanently store data in a non-volatile memory (e: hard disk). \n",
    "   # Since, random access memory (RAM) is volatile which loses its data when computer is turned off, we use files for future use of the data. \n",
    "   # When we want to read from or write to a file we need to open it first. When we are done, it needs to be closed, so that resources that are tied with the file are freed. \n",
    "\n",
    " # File operation: \n",
    "    # 1. Open a file \n",
    "    # 2. Read or write (perform operation) \n",
    "    # 3. Close the file. \n",
    "\n",
    "  # Opening a File \n",
    "     # Python has a built-in function open () to open a file. \n",
    "     # This function returns a file object, also called a handle, as it is used to read or modify the file accordingly. \n",
    "               # f = open('example.txt') #open file in current directory \n",
    "     # We can specify the mode while opening a file. In mode, we specify whether we want to read 'r', write 'w' or append 'a' to the file. \n",
    "     # We also specify if we want to open the file in text mode or binary mode. \n",
    "\n",
    "     # Python File Modes \n",
    "# 'r' Open a file for reading. (default) \n",
    "# 'w' Open a file for writing. Creates a new fil if it does not exist or truncates the file if it exists. \n",
    "# 'x' Open a file for exclusive creation. If the file already exists, the operation fails. \n",
    "# 'a' Open for appending at the end of the file without truncating it. Creates a new file if it does not exist. \n",
    "# 't' Open in text mode. (default).\n",
    "# 'b' Open in binary mode.\n",
    "# '+' Open a file for updating (reading and writing) \n",
    "\n",
    "   # Closing a File \n",
    "      # Closing a file will free up the resources that were tied with the file and is done using the close () method. \n",
    "      # Python has a garbage collector to clean up unreferenced objects but, we must not rely on it to close the file. \n",
    "                   #   f = open (' example .txt. ') f.close ( ) \n",
    "      # This method is not entirely safe. If an exception occurs when we are performing some operation with the file, the code exits without closing the file. \n",
    "      # A safer way is to use a try...finally block. \n",
    "\n",
    "              # try:\n",
    "              # f = open(\"example.txt\")        #Perform file operations \n",
    "              # finally:\n",
    "              # f. close ()\n",
    "\n",
    "     # This way, we are guaranteed that the file is properly closed even if an exception is raised, causing program flow to stop. \n",
    "     # The best way to do this is using the with statement.  This ensures that the file is closed when the block inside with is exited.\n",
    "     # We don't need to explicitly call the close () Method. It is done internally. \n",
    "                    #  with open (\"example.txt\", encoding = 'utf-8') as f: \n",
    "                    #Perform file operations \n",
    "\n",
    "   # Writing to a File \n",
    "        # In order to write into a file, we need to open it in write 'w', append 'a' or exclusive creation 'x' mode. \n",
    "        # We need to be careful with the 'w' mode as it will overwrite into the file if it already exists. All previous data are erased.\n",
    "        # Writing a string or sequence of bytes (for binary files) is done using write () method. This method returns the number of characters written to the file. \n"
   ]
  },
  {
   "cell_type": "code",
   "execution_count": null,
   "metadata": {},
   "outputs": [],
   "source": [
    "f = open(\"Test.txt\",\"w\")   # Using small letter of W to write. \n",
    "f.write(\"This is a first file \\n\")    # See here the forward slash not backwards. \n",
    "f.write(\"Contains two lines \\n\")\n",
    "f.close()\n",
    "\n",
    "f = open(\"Test.txt\",\"r\") \n",
    "f.read()"
   ]
  },
  {
   "cell_type": "code",
   "execution_count": null,
   "metadata": {},
   "outputs": [],
   "source": [
    "f = open(\"Test.txt\",\"r\") \n",
    "f.read(4)"
   ]
  },
  {
   "cell_type": "code",
   "execution_count": null,
   "metadata": {},
   "outputs": [],
   "source": [
    " # f = open(\"Test.txt\",\"r\") \n",
    "f.read(10)    # ' is a firs' is a output for this. Why? because we make 'comment' on the just previous cell. \n",
    "# due to we read first 4 characters from the previous cell code. The cursor is now in 5th position. \n",
    "# From there onwards our new code will take the next 10 characters. "
   ]
  },
  {
   "cell_type": "code",
   "execution_count": null,
   "metadata": {},
   "outputs": [],
   "source": [
    "# We can change our current file cursor (position) using the seek () method.\n",
    "# Similarly, the tell () method returns our current position (in number of bytes)\n",
    "\n",
    "f.tell() # Cursor is now beside 's' - it is 14th position actually.  "
   ]
  },
  {
   "cell_type": "code",
   "execution_count": null,
   "metadata": {},
   "outputs": [],
   "source": [
    "f.seek(0) # bring the file cursor to initial position."
   ]
  },
  {
   "cell_type": "code",
   "execution_count": null,
   "metadata": {},
   "outputs": [],
   "source": [
    "# We can read a file line-by-line using a for loop, This is both efficient and fast.\n",
    "\n",
    "f.seek(0)\n",
    "for line in f:\n",
    "    print(line)     # (This works because - in our initial code, we used '\\n' for new line). "
   ]
  },
  {
   "cell_type": "code",
   "execution_count": null,
   "metadata": {},
   "outputs": [],
   "source": [
    "# Alternatively, we can use readline() method to read individual lines of a file. \n",
    "# This method reads a file till the newline, including the new character. \n",
    "\n",
    "f = open(\"Test.txt\",\"r\") \n",
    "f.readline()\n"
   ]
  },
  {
   "cell_type": "code",
   "execution_count": null,
   "metadata": {},
   "outputs": [],
   "source": [
    "f.readline()  # as a continuation, the curser is now at the end of the first line, so it prints second line"
   ]
  },
  {
   "cell_type": "code",
   "execution_count": null,
   "metadata": {},
   "outputs": [],
   "source": [
    "f.readline()  # as a continuation, the curser is now at the end of the second line, so it prints third line that is empty."
   ]
  },
  {
   "cell_type": "code",
   "execution_count": null,
   "metadata": {},
   "outputs": [],
   "source": [
    "# The readlines () method returns a list of remaining lines of the entire file. \n",
    "# All these reading methods return empty values wen end of file (EOF) is reached. \n",
    "# (Each line presented as an element in a list)\n",
    "\n",
    "f = open(\"Test.txt\",\"r\") \n",
    "f.readlines()"
   ]
  },
  {
   "cell_type": "code",
   "execution_count": null,
   "metadata": {},
   "outputs": [],
   "source": [
    "# RENAMING AND DELETING FILES IN  PYTHON:\n",
    "    # While you were using the read/write functions, you may also need to rename/delete a file in python. \n",
    "    # So, there comes a OS module in Python which brings the support of file rename/ delete operations. \n",
    "    # So, to continue, first of all, you should import the OS module in python script. \n",
    "\n",
    "p = open(\"exam.txt\",\"w\")\n",
    "p.write(\"Good Evenin User\\n \")\n",
    "p.write(\"Glad to meet you\\n \")\n",
    "\n",
    "p = open(\"exam.txt\",\"r\")\n",
    "p.read()"
   ]
  },
  {
   "cell_type": "code",
   "execution_count": 92,
   "metadata": {},
   "outputs": [],
   "source": [
    "p.close()\n"
   ]
  },
  {
   "cell_type": "code",
   "execution_count": null,
   "metadata": {},
   "outputs": [],
   "source": [
    "# Rename a file from sample.txt to Divya.txt\n",
    "import os\n",
    "os.rename(\"exam.txt\", \"sam.txt\")\n",
    "p = open(\"sam.txt\",\"r\")\n",
    "p.readline()\n",
    "\n",
    "     # NOTE : 'CLOSE' IS MUST ELSE THE PROGRAM KEEPS RUNNING AND IT WOULD NOT ALLOW YOU TO RENAME THE FILE. BEFORE RENAMING , MAKE SURE CLOSING THE FILE."
   ]
  },
  {
   "cell_type": "code",
   "execution_count": 95,
   "metadata": {},
   "outputs": [],
   "source": [
    "p.close()"
   ]
  },
  {
   "cell_type": "code",
   "execution_count": null,
   "metadata": {},
   "outputs": [],
   "source": [
    "os.remove(\"sam.txt\")\n",
    "p = open(\"sam.txt\",\"r\")\n",
    "p.readline()  # FileNotFoundError: [Errno 2] No such file or directory: 'sam.txt'"
   ]
  },
  {
   "cell_type": "code",
   "execution_count": null,
   "metadata": {},
   "outputs": [],
   "source": [
    "# Python Directory and File Management \n",
    "    # If there are a large number of files to handle in your Python program, you can arrange your code within different directories to make things more manageable. \n",
    "    # A directory or folder collection of files and sub directories. Python has the os module, which provides us with many useful methods to work with directories (and files as well). \n",
    "\n",
    "# Get current Directory \n",
    "   # We can get the present working directory using the getcwd () method. \n",
    "   # This method returns the current working directory in the form of a string. \n",
    "\n",
    "import os\n",
    "os.getcwd()"
   ]
  },
  {
   "cell_type": "code",
   "execution_count": 98,
   "metadata": {},
   "outputs": [],
   "source": [
    "# Changing directory:\n",
    " \n",
    "   # We can change the current working directory using chdir() method.\n",
    "   # The new path that we want to change to must be supplied as a string to this metod. \n",
    "   # We can use both forward slash (/) and backward slash () to seperate path elements. \n",
    "\n",
    "os.chdir('d:\\\\Github\\\\Python_Scalar')"
   ]
  },
  {
   "cell_type": "code",
   "execution_count": null,
   "metadata": {},
   "outputs": [],
   "source": [
    "# List directories and files: \n",
    "    # All files and sub-directories inside a directory can be used using the listdir() method\n",
    "os.listdir(os.getcwd())"
   ]
  },
  {
   "cell_type": "code",
   "execution_count": 125,
   "metadata": {},
   "outputs": [],
   "source": [
    "# MAKING NEW DIRECTORY:\n",
    "   # We can make a new directory using the mkdir() method.\n",
    "   # This method takes in the part of the new directory. If the full pat is not specified, the new directory is created in the current working directory. \n",
    "   # However, note that rmdir () method can only remove empty directories. \n",
    "   # In order to remove a non-empty directory, we can use the rmtree () method inside the 'shutil ' module. \n",
    "\n",
    "os.mkdir('sample')   # creating a new directory using mkdir() method.\n",
    "os.rmdir('sample')   # Since I just created new directory 'sample', it does not contain any files inside. It is empty. \n",
    "                     # Therefore I used rmdir() to remove/ delete it.\n",
    "\n",
    "import shutil\n",
    "os.mkdir('Conti')  \n",
    "t = open('Conti.txt','w')   \n",
    "t.write = ('Jacky is fine today')  \n",
    "# Since it is non-empty directory,we use rmtree() method by importing 'shutil' to remove this directory. "
   ]
  },
  {
   "cell_type": "code",
   "execution_count": 127,
   "metadata": {},
   "outputs": [],
   "source": [
    "os.rmdir('Conti')  # It supposed to be showing an error, because it is non-empty directory.\n",
    "                   # rmdir() only removes/ deletes the empty directory. \n",
    "                   # But here its not showing . I do not know what error. "
   ]
  },
  {
   "cell_type": "code",
   "execution_count": null,
   "metadata": {},
   "outputs": [],
   "source": [
    "shutil.rmtree('Conti')  # rmtree() will remove/delete a non-empty directory."
   ]
  },
  {
   "cell_type": "code",
   "execution_count": null,
   "metadata": {},
   "outputs": [],
   "source": [
    "# PYTHON ERRORS AND BUILT-IN EXCEPTIONS:\n",
    "   # When writing a program, we, more often than not, will encounter errors.\n",
    "   # Error caused by not following the proper structure (syntax) of the language is called syntax error or parsing error. \n",
    "       \t  # If a > 3 -> # here it showing a syntax-error because at the end semicolon is missing. \n",
    "   # Errors can also occur at runtime and these are called Exceptions. \n",
    "   # They occur for example, when a file we try to open does not exist (File not found error (IO error)), dividing a number by zero (Zero Division Error), module we try to import is not found (Import Error), etc..\n",
    "   # Whenever these types of runtime error occur, Python creates an exception object. If not handled properly, it prints a traceback to that error along with some details about why that error occurred. \n",
    "\n",
    "  # Python interpreter actually raises an error. Actually there is a module in Python for Error handling. \n"
   ]
  },
  {
   "cell_type": "code",
   "execution_count": null,
   "metadata": {},
   "outputs": [],
   "source": [
    "# Python Built-in Exceptions\n",
    "\n",
    "dir(__builtins__)"
   ]
  },
  {
   "cell_type": "code",
   "execution_count": null,
   "metadata": {},
   "outputs": [],
   "source": [
    "# PYTHON EXCEPTION HANDLING TRY, EXCEPT AND FINALLY: \n",
    "    # Python has many built-in exceptions which forces your program to output an error when something in it goes wrong. \n",
    "    # When these exceptions occur, it causes the current process to stop and passes it to the calling process until it is handled. If not handled, our program will crash. \n",
    "    # For example, if function A calls function B which in turn calls function C and an exception occurs in function C. If it is not handled in C, the exception passes to B and then to A. \n",
    "    # If never handled, an error message is spit out and our program come to a sudden, unexpected halt. \n",
    "\n",
    "# CATCHING EXCEPTIONS IN PYTHON:\n",
    "   # In python, exceptions can be handled using a try statement. \n",
    "   # A critical operation which can raise exception is placed inside the try clause and the code that handles exception is written in except clause. \n",
    "\n",
    "   # Except block handles the errors gracefully. "
   ]
  },
  {
   "cell_type": "code",
   "execution_count": null,
   "metadata": {},
   "outputs": [],
   "source": [
    "import sys\n",
    "list21 = ['b', 0,2]\n",
    "\n",
    "for entry in list21:\n",
    "    try:\n",
    "        print(\"The entry is \", entry)\n",
    "        r = 1/entry\n",
    "    except:\n",
    "        print(\"Oops!\", sys.exc_info()[0],  \"Occured\")\n",
    "        print(\"Next Entry\")\n",
    "        print(\"*******************\")\n",
    "print(\"Te reciprocal of\", entry, \"is\", r)\n"
   ]
  },
  {
   "cell_type": "code",
   "execution_count": null,
   "metadata": {},
   "outputs": [],
   "source": [
    "# CATCHING EXCEPTIONS IN PYTHON:\n",
    "   # In the above example, we did not mention any exceptions in the except clause. \n",
    "   # This is not a good programming practice as it will catch all exceptions and handle every case in the same way. We can specify which exceptions an except clause will catch.\n",
    "   # A try clause can have any number of except clause to handle them differently but only one will be executed in case an exception occurs. \n",
    "\n",
    "import sys\n",
    "list21 = ['b', 0, 2]\n",
    "\n",
    "for entry in list21:\n",
    "    try:\n",
    "        print(\"*******************\")\n",
    "        print(\"The entry is \", entry)\n",
    "        r = 1/ entry\n",
    "    except (ValueError):\n",
    "        print(\"This is ValueError\")\n",
    "    except (ZeroDivisionError):\n",
    "        print(\"This is ZeroError\")\n",
    "    except:\n",
    "        print(\"Some other errors\")\n",
    "print(\"The reciprocal of \", entry, \"is\", r)"
   ]
  },
  {
   "cell_type": "code",
   "execution_count": null,
   "metadata": {},
   "outputs": [],
   "source": [
    "# RAISING EXCEPTIONS:\n",
    "  # In Python programming, exceptions are raised when corresponding errors occur at runtime, but we can forcefully raise it using the keyword raise. \n",
    "  # We can also optionally pass in value to the exception to clarify why that exceptions were raised. \n",
    "\n",
    " # raise KeyboardError\n",
    " # raise MemoryError (\"This is Memory Error\")\n",
    "\n",
    "try:\n",
    "    n = int(input(\"Enter a positive number: \"))\n",
    "    if n <=0:\n",
    "        raise ValueError(\"Error: This is a negative number\")\n",
    "except ValueError as e:\n",
    "    print(e)"
   ]
  },
  {
   "cell_type": "code",
   "execution_count": null,
   "metadata": {},
   "outputs": [],
   "source": [
    "# TRY…FINALLY:\n",
    "   # The try statement in Python can have an optional finally clause. \n",
    "   # This clause is executed no matter what, and is generally used to release external sources. \n",
    "\n",
    "try:\n",
    "    n = open(\"sample.txt\")  # performs file operations.\n",
    "finally:\n",
    "    n.close()"
   ]
  },
  {
   "cell_type": "code",
   "execution_count": null,
   "metadata": {},
   "outputs": [],
   "source": [
    "# DEBUGGING:\n",
    "    # PDB (Python debugger) implements an interactive debugging environment for Python programs. \n",
    "    # It includes features to let you pause your program, look at the values of variables, and watch program execution step-by-step, so you can understand wat your program actually does and find bugs in the logic. \n",
    "\n",
    "def seq(n):\n",
    "    for i in range(n):\n",
    "        print(i)\n",
    "seq(5)"
   ]
  },
  {
   "cell_type": "code",
   "execution_count": null,
   "metadata": {},
   "outputs": [],
   "source": [
    "# Starting the debugger\n",
    "\n",
    "import pdb\n",
    "\n",
    "def seq(num):\n",
    "    for i in range(num):\n",
    "        pdb.set_trace()  \n",
    "        print(i)\n",
    "seq(5)\n",
    " # Generally pdb.set_trace() stops the execution of program to function while iteration & gives us control to do things.\n",
    "\n",
    " # c - continue\n",
    " # q - quit\n",
    " # h - help\n",
    " # p - print\n",
    " # p locals()\n",
    " # p globals()"
   ]
  },
  {
   "cell_type": "code",
   "execution_count": null,
   "metadata": {},
   "outputs": [],
   "source": [
    "# Debugger commands:\n",
    "  # 1. Help:\n",
    "       # Without argument, print the list of available commands. \n",
    "       # With a command as argument, print helps about that command, help pdb displays the full documentation (the docstring of the pdb module). \n",
    "       # Since the command argument must be an identifier, help exec must be entered to get help on the command. \n",
    "\n",
    "  # 2. Where:\n",
    "       # Print a stack trace, with the most recent frame at the bottom. \n",
    "       # An arrow indicates the current frame, which determines the context of most commands. \n",
    "\n",
    "  # 3. Down(count):\n",
    "       # Move the current frame count (default one) levels down in the stack trace (to a newer frame)\n",
    "\n",
    "  # 4. Continue:\n",
    "       # Continue execution, only stop when a breakpoint is encountered.\n",
    "\n",
    "  # 5. Quit:\n",
    "       # Quit from the debugger. The program being executed is aborted. \n"
   ]
  },
  {
   "cell_type": "code",
   "execution_count": null,
   "metadata": {},
   "outputs": [],
   "source": [
    "# MODULE 4 – NUMPY\n",
    "\n",
    "     # CHAPTER 1 – INTRODUCTION.\n",
    "\n",
    "# NumPy Arrays:\n",
    "     # Python to objects:\n",
    "          # High-level number objects: integers, floating point\n",
    "          # Containers: lists (costless insertion and append), dictionaries (fast lookup)\n",
    "\n",
    "     # NumPy Provides:\n",
    "          # Extension package to python for multi-dimensional arrays.\n",
    "          # Closer to hardware(efficiency)\n",
    "          # Designed for scientific computation (convenience) \n",
    "\n",
    "   # Why it is useful: Memory-efficient container that provides fast numerical operations.\n",
    "   # NumPy is more efficient and faster than normal python list operations. "
   ]
  },
  {
   "cell_type": "code",
   "execution_count": 31,
   "metadata": {},
   "outputs": [
    {
     "name": "stdout",
     "output_type": "stream",
     "text": [
      "[0 1 2 3 4]\n",
      "[0 1 2 3 4 5 6 7 8 9]\n"
     ]
    }
   ],
   "source": [
    "import numpy as np\n",
    "k = np.array([0,1,2,3,4])\n",
    "print(k)\n",
    "p = np.arange(10)\n",
    "print(p)"
   ]
  },
  {
   "cell_type": "code",
   "execution_count": 36,
   "metadata": {},
   "outputs": [
    {
     "name": "stdout",
     "output_type": "stream",
     "text": [
      "210 µs ± 35.4 µs per loop (mean ± std. dev. of 7 runs, 1,000 loops each)\n",
      "3.62 µs ± 321 ns per loop (mean ± std. dev. of 7 runs, 100,000 loops each)\n"
     ]
    }
   ],
   "source": [
    "# Python lists:\n",
    "fs = range(1000)\n",
    "fy = %timeit [i ** 2 for i in fs]\n",
    "\n",
    "# NumPy lists:\n",
    "oi = np.arange(1000)\n",
    "ois = %timeit oi**2\n",
    "\n",
    "# '%timeit' is nothing but the function used to compute time taken for iteration. "
   ]
  },
  {
   "cell_type": "code",
   "execution_count": 45,
   "metadata": {},
   "outputs": [
    {
     "name": "stdout",
     "output_type": "stream",
     "text": [
      "[1 2 3 4 5 6]\n"
     ]
    },
    {
     "data": {
      "text/plain": [
       "6"
      ]
     },
     "execution_count": 45,
     "metadata": {},
     "output_type": "execute_result"
    }
   ],
   "source": [
    "# Creating arrays:\n",
    "   # Manual Construction of array\n",
    "   # 1-D array\n",
    "t = np.array([1,2,3,4,5,6])\n",
    "print(t)\n",
    "\n",
    "t.ndim  # Output is 1.\n",
    "t.shape # Output is (6,)\n",
    "len(t)  # Output is 6"
   ]
  },
  {
   "cell_type": "code",
   "execution_count": null,
   "metadata": {},
   "outputs": [],
   "source": [
    "# 2-D and 3-D arrays..\n",
    "import numpy as np\n",
    "r = np.array([[1,2,3],[4,5,6]])   # note double brackets for 2-d array.\n",
    "print(r)\n",
    "\n",
    "r.ndim  # Output is 2. \n",
    "r.shape # Output is (2,3)\n",
    "len(r)  # Output is 2 - showing length of rows\n"
   ]
  },
  {
   "cell_type": "code",
   "execution_count": null,
   "metadata": {},
   "outputs": [],
   "source": [
    "q = np.array([[[0,1],[1,2]],[[2,3],[3,4]]])\n",
    "print(q)\n",
    "\n",
    "q.ndim # Output is 3.\n",
    "q.shape # Output is (2,2,2)\n",
    "len(q)  # Output is 2."
   ]
  },
  {
   "cell_type": "code",
   "execution_count": null,
   "metadata": {},
   "outputs": [],
   "source": [
    "# 1-D array is called as Vector\n",
    "# 2-D array is called Matrix.\n",
    "# n-D array is called Tensor. \n",
    "\n",
    "# 1.2 Functions for creating arrays:\n",
    "\n",
    "w = np.arange(10)\n",
    "print(w)\n",
    "\n",
    "e = np.arange(1,10,2)  # Start, End (End value Exclusive), Step\n",
    "print(e)\n",
    "\n",
    "t = np.linspace(0,1,6) \n",
    "print(t)\n",
    "# Start, End, Number of points. Here 6 included start point and end point, in-between 4 points should be there. "
   ]
  },
  {
   "cell_type": "code",
   "execution_count": null,
   "metadata": {},
   "outputs": [],
   "source": [
    "j = np.ones((3,3))   # Note values should be in tuples.\n",
    "print(j)\n",
    "\n",
    "j1 = np.zeros((2,2)) # Note values should be in tuples.\n",
    "print(j1)\n",
    "\n",
    "np.eye(3) \n",
    " # Returns a 2-D array with ones on the diagonal and zeros elsewhere. \n",
    "# (Here eye represents Identity matrix that means diagonal values are same (from top left to bottom right). Others remain zeros)."
   ]
  },
  {
   "cell_type": "code",
   "execution_count": null,
   "metadata": {},
   "outputs": [],
   "source": [
    "np.eye(3,2)\n",
    "# 3 is the number of rows and 2 is the number of columns. See the output and you can understand this concept. "
   ]
  },
  {
   "cell_type": "code",
   "execution_count": null,
   "metadata": {},
   "outputs": [],
   "source": [
    "# Create array using diag function:\n",
    "i = np.diag([1,2,3,4])\n",
    "print(i)\n",
    "\n",
    "# Extract diagonal from the above.\n",
    "np.diag(i)"
   ]
  },
  {
   "cell_type": "code",
   "execution_count": null,
   "metadata": {},
   "outputs": [],
   "source": [
    "# create an array using random\n",
    "  # Create an array of the given shape and populate it from random samples. \n",
    "  # Note that random numbers here are uniformly distributed. \n",
    "\n",
    "a = np.random.rand(4) \n",
    "print(a)\n",
    "# Here np is a package, random is a sub-package and rand is a module. \n",
    "\n",
    "bi = np.random.randn(5)  # Returns a sample (or samples) from the standard normal variant.\n",
    "print(bi)\n",
    "# The other type of distribution is called Standard normal Variant or Gaussian distribution.\n",
    "# It is not uniformly distributed. \n"
   ]
  },
  {
   "cell_type": "code",
   "execution_count": null,
   "metadata": {},
   "outputs": [],
   "source": [
    "# 2.0 BASIC DATA TYPES:\n",
    "  # You may have noticed that, in some instances, array elements are displayed with a TROLLING DOT (e: 2. vs 2). \n",
    "  # This is due to a difference in the data-type used:\n",
    "\n",
    "aw = np.arange(6)\n",
    "aw.dtype          # Output is dtype('int32')\n",
    "  \n",
    "  # You can explicitly specify which data-type you want: \n",
    "bw = np.arange(5, dtype= float)\n",
    "print(bw)"
   ]
  },
  {
   "cell_type": "code",
   "execution_count": null,
   "metadata": {},
   "outputs": [],
   "source": [
    "# Note that the default datatype is float for Zeros and ones functions as you already see above:\n",
    "# You note that we did not mentioned datatype as float however the output showing as in float datatype. \n",
    "ti = np.ones((3,3))\n",
    "print(ti)\n",
    "\n",
    "ui = np.zeros((2,2))\n",
    "print(ui)\n",
    "ui.dtype"
   ]
  },
  {
   "cell_type": "code",
   "execution_count": null,
   "metadata": {},
   "outputs": [],
   "source": [
    "# Other data types: \n",
    "jk = np.array([1+2j, 2+4j])\n",
    "jk.dtype     # The output is dtype('complex128')\n",
    "\n",
    "no = np.array([True, False, False, True])\n",
    "no.dtype     # The output is dtype('bool')\n",
    "\n",
    "s1 = np.array([\"Ram\", \"Robert_yassin\", \"Rahim\"])\n",
    "s1.dtype     # dtype('<U6')\n",
    "\n",
    "# for more details - https://docs.scipy.org/doc/numpy-1.10.1/user/basics.html"
   ]
  },
  {
   "cell_type": "code",
   "execution_count": null,
   "metadata": {},
   "outputs": [],
   "source": [
    "# 3. INDEXING AND SLICING: \n",
    "   # 3.1 Indexing:\n",
    "       # The items of an array can be accessed and assigned to the same way as other PYTHON SEQUENCES eg: lists. \n",
    "\n",
    "li = np.arange(12)\n",
    "print(li)\n",
    "li[5]\n",
    "\n",
    "       # For multidimentional arrays, indexes are tuples of integers:\n",
    "uo = np.diag([1,2,3])\n",
    "uo[2,2]       # The output is 3.\n",
    "\n",
    "# Assigning value to 0 in diagonal matrix - uo\n",
    "uo[2,1] = 5\n",
    "print(uo)   \n"
   ]
  },
  {
   "cell_type": "code",
   "execution_count": null,
   "metadata": {},
   "outputs": [],
   "source": [
    "# 3.2 Slicing:\n",
    "\n",
    "jq = np.arange(10)\n",
    "print(jq)\n",
    "\n",
    "  # Slicing\n",
    "jq[1:8:2]   # Start, End (End value Exclusive), Step\n",
    "\n",
    "  # We can also combine assignment and slicing: \n",
    "jq[5:] = 10\n",
    "print(jq)    # The output is [ 0  1  2  3  4 10 10 10 10 10]\n",
    "\n",
    "jv = np.arange(5)\n",
    "print(jv)\n",
    "\n",
    " # Slicing: \n",
    "jq[5:] = jv[::-1] # We re-assigning jq[5:] values as jv[::-1]; understand perfectly.\n",
    "print(jq)\n"
   ]
  },
  {
   "cell_type": "code",
   "execution_count": null,
   "metadata": {},
   "outputs": [],
   "source": [
    "# 4. COPIES AND VIEWS:\n",
    "    # A slicing operation creates a view on the original way, which is just a way of processing array data. \n",
    "    # Thus the original array is not copied in memory. \n",
    "    # You can use np.may_share_memory() to check if two arrays share the same memory block.\n",
    "\n",
    "# VIEW:    \n",
    "   # A view (or shallow copy) is a new array object that looks at the same data as the original array. \n",
    "   # Changes made to the view will affect the original array and vice versa.\n",
    "\n",
    "# When modifying the view, the original array is modified as well: \n",
    "\n",
    "A = np.arange(6)  # Output is [0 1 2 3 4 5]\n",
    "print(A)  \n",
    "\n",
    "B = np.arange(0,5,2)  \n",
    "print(B)          # NumPy optimizes spaces by storing the B (sub-array) inside A itself in RAM, preventing eating up space.\n",
    "                  # To check this up. We can use share_memory() method.\n",
    "\n",
    "np.shares_memory(A,B)  # Output is False. Hence it does not sharing the same memory.\n",
    "\n",
    "B[0] = 10\n",
    "print(B)     \n",
    "# If A & B sharing the same memory (True) -When we modified the sub-array (B),it updated A also because its sharing the same memory."
   ]
  },
  {
   "cell_type": "code",
   "execution_count": null,
   "metadata": {},
   "outputs": [],
   "source": [
    "# COPY: \n",
    "    # A copy of an array is a new array with its own data. \n",
    "    # Changes made to the copy do not affect the original array and vice versa\n",
    "\n",
    "A = np.arange(6)  # Output is [0 1 2 3 4 5]\n",
    "print(A)  \n",
    "\n",
    "C = A[::2].copy()  # forces a copy   (C is a copy of A with slight slicing changes.)   \n",
    "print(C)         \n",
    "\n",
    "np.shares_memory(A,C) # False - It does not sharing the memory. \n",
    "\n",
    "C[0] = 10             # So if we modified C, it would not affect A in memory due to no sharing . \n",
    "print(C)  "
   ]
  },
  {
   "cell_type": "code",
   "execution_count": null,
   "metadata": {},
   "outputs": [],
   "source": [
    "# 5. FANCY INDEXING:\n",
    "\n",
    "     # NumPy arrays can be indexed with slices, but also with boolean or integer arrays (masks). \n",
    "     # This method is called Fancy indexing. It creates copies not views.\n",
    "\n",
    " # Using boolean masks.\n",
    "\n",
    "ak = np.random.randint(0,20,15)\n",
    "print(ak)\n",
    "\n",
    "mask = (ak % 2 == 0)   # when in need of even numbers slicing.\n",
    "extract_from_ak = ak[mask]\n",
    "print(extract_from_ak)\n",
    "\n",
    "# extract_from_ak is equal for ak[mask] right. And the output is [ 4 16  4  6 14  4  8]\n",
    "# We can also assign new value for ak mask hence it modifies the original ak values.\n",
    "\n",
    "ak[mask] = -1\n",
    "print(ak)  # Understand the output below. "
   ]
  },
  {
   "cell_type": "code",
   "execution_count": null,
   "metadata": {},
   "outputs": [],
   "source": [
    "# Indexing of an array with integers: \n",
    "\n",
    "al = np.arange(0,100,10)\n",
    "print(al)\n",
    "\n",
    "    # indexing can be done with an array of integers, where the same index is repeated.\n",
    "pm = al[[2,3,2,4,2]]    # Very useful.\n",
    "print(pm)\n",
    "\n",
    "    # New values can be assigned: \n",
    "al[[5,7]] = -100         # Note double square bracket for this method. \n",
    "print(al)"
   ]
  },
  {
   "cell_type": "code",
   "execution_count": null,
   "metadata": {},
   "outputs": [],
   "source": [
    "# CHAPTER : 2 \n",
    "\n",
    "# ELEMENT WISE OPERATIONS:\n",
    "   # 1. Basic Operations\n",
    "\n",
    "# with Scalars\n",
    "am = np.array([1,2,3,4])\n",
    "\n",
    "print(am + 1)\n",
    "print(am*2)\n",
    "\n",
    "# All arithmetic operaters element-wise:\n",
    "\n",
    "bn = np.ones(4)\n",
    "print(bn)       # Output is [1. 1. 1. 1.]\n",
    "print(bn + 1)   # Output is [2. 2. 2. 2.]\n",
    "print(am - bn)  # Output is [0. 1. 2. 3.]  -> [1,2,3,4] - [1. 1. 1. 1.]\n",
    "print(am * (bn+1))  # Output is [1. 2. 3. 4.]  -> [1,2,3,4] * [2. 2. 2. 2.]\n"
   ]
  },
  {
   "cell_type": "code",
   "execution_count": null,
   "metadata": {},
   "outputs": [],
   "source": [
    "# Matrix Multiplication:\n",
    "\n",
    "ct = np.diag([1,2,3,4])\n",
    "print(ct)\n",
    "\n",
    "print(ct * ct) \n",
    "     # or\n",
    "print(ct.dot(ct))  # Both reveals the same result. -> ct.ct means multiplication only. "
   ]
  },
  {
   "cell_type": "code",
   "execution_count": null,
   "metadata": {},
   "outputs": [],
   "source": [
    "# Comparisons: \n",
    "\n",
    "ar = np.array([1,3,5,6])\n",
    "bj = np.array([2,1,5,7])\n",
    "ce = np.array([2,1,5,7])\n",
    "\n",
    "print(ar == bj)\n",
    "print(ar > bj)\n",
    "\n",
    "  # Instead ==, we can also use array_equal metod:\n",
    "print(np.array_equal(ar,bj))\n",
    "print(np.array_equal(ce,bj))\n"
   ]
  },
  {
   "cell_type": "code",
   "execution_count": null,
   "metadata": {},
   "outputs": [],
   "source": [
    "# logical Operations:  1 represents true, 0 represents False. \n",
    "\n",
    "ab = np.array([1,1,0,0])  \n",
    "bs = np.array([1,0,1,0])\n",
    "\n",
    "print(np.logical_or(ab,bs))\n",
    "print(np.logical_and(ab,bs))"
   ]
  },
  {
   "cell_type": "code",
   "execution_count": null,
   "metadata": {},
   "outputs": [],
   "source": [
    "# TRANSCENDENTAL FUNCTIONS: (Includes log values, trignometry values, etc..)\n",
    "\n",
    "ar = np.array([1,3,5,6])\n",
    "print(np.sin(ar))\n",
    "\n",
    "print(np.log(ar))\n",
    "\n",
    "print(np.exp(ar))  # evaluates e^x for each element in a given input. "
   ]
  },
  {
   "cell_type": "code",
   "execution_count": null,
   "metadata": {},
   "outputs": [],
   "source": [
    "# SHAPE MISMATCH: \n",
    "\n",
    "po = np.arange(2)\n",
    "print(po)\n",
    "ar = np.array([1,3,5,6])\n",
    "print(ar)\n",
    "\n",
    "print(po - ar)  # Showing Error - ValueError: operands could not be broadcast together with shapes (2,) (4,) \n"
   ]
  },
  {
   "cell_type": "code",
   "execution_count": null,
   "metadata": {},
   "outputs": [],
   "source": [
    "# 2. BASIC REDUCTIONS: \n",
    "  # Computing sums: \n",
    "\n",
    "nt = np.array([2,4,5,7])\n",
    "print(sum(nt))\n",
    "\n",
    "  # Sum by rows and by columns: \n",
    "mk = np.array([[1,3],[4,0]])\n",
    "print(mk)\n",
    "\n",
    "print(mk.sum(axis=0))   # It sums columnwise.\n",
    "print(mk.sum(axis=1))   # It sums rowwise."
   ]
  },
  {
   "cell_type": "code",
   "execution_count": null,
   "metadata": {},
   "outputs": [],
   "source": [
    "  # Other reductions: \n",
    "ar = np.array([1,3,5,6])\n",
    "print(ar.min())\n",
    "print(ar.max())\n",
    "print(ar.argmin())  # Index of minimum element\n",
    "print(ar.argmax())  # Index of maximum element"
   ]
  },
  {
   "cell_type": "code",
   "execution_count": null,
   "metadata": {},
   "outputs": [],
   "source": [
    "# Logical operations: \n",
    "\n",
    "np.all([True,True,True,False]) # Output is False -> all: any false found, false is answer. (like AND)\n",
    "np.any([True,True,True,False]) # Output is True  -> any: any true found, true is answer.(like OR)\n",
    "\n",
    "  # Can be used for array comparisons\n",
    "ad = np.zeros((50,50))\n",
    "print(np.any(ad != 0))\n",
    "\n",
    "print(np.all(ad == 0))\n",
    "\n",
    "fi = np.array([1,2,3,2])\n",
    "ko = np.array([2,2,3,2])\n",
    "xw = np.array([6,4,4,5])\n",
    "((fi <= ko) & (ko <= xw)).all()  # All conditions satisfied so True will be the answer even it is all / any"
   ]
  },
  {
   "cell_type": "code",
   "execution_count": null,
   "metadata": {},
   "outputs": [],
   "source": [
    "# STATISTICS: \n",
    "xp = np.array([1,2,3,1])\n",
    "yu = np.array([[1,2,3],[5,6,1]])\n",
    "\n",
    "print(xp.mean())               # Format differs.\n",
    "print(np.median(xp))           # Format differs.\n",
    "print(np.median(yu,axis=1))    # Format differs.\n",
    "\n",
    "print(xp.std())"
   ]
  },
  {
   "cell_type": "code",
   "execution_count": null,
   "metadata": {},
   "outputs": [],
   "source": [
    "# Example: \n",
    "  # Data in population.txt describes the population of areas and lynxes (and carrots) in nortern canada during 20 years. \n",
    "  \n",
    "  # Load data into numpy array object:\n",
    "data = np.loadtxt(\"population.txt\")\n",
    "print(data)    # FileNotFoundError\n",
    "\n",
    "# A matrix -> A transposed matrix."
   ]
  },
  {
   "cell_type": "code",
   "execution_count": null,
   "metadata": {},
   "outputs": [],
   "source": [
    "# BROADCASTING: \n",
    "\n",
    "   # Basic operations on numpy arrays (addition, etc.) are elementwise \n",
    "   # This works on arrays of the same size. \n",
    "   # Nevertheless, It's also possible to do operations on arrays of different sizes if NumPy can transform these arrays so that they all have the same size: this conversion is called broadcasting. \n",
    "\n",
    "import numpy as np\n",
    "\n",
    "broadcast = np.tile(np.arange(0,40,10), (3,1))  # three rows and 1 set column.\n",
    "print(broadcast)\n",
    "print(\"*****************\")\n",
    "\n",
    "im = broadcast.T  # T is noting but Transpose.\n",
    "print(im)\n",
    "\n",
    "uy = np.array([1,2,3,4])\n",
    "print(uy+ broadcast)"
   ]
  },
  {
   "cell_type": "code",
   "execution_count": null,
   "metadata": {},
   "outputs": [],
   "source": [
    "aq = np.arange(0,40,10)\n",
    "print(aq)    # Output is [ 0 10 20 30]\n",
    "\n",
    "np.shape(aq)  # Output is (4,) -> 1-D array right? Yes.\n",
    "\n",
    "aq = aq[:, np.newaxis]  # Means, Include taking all the rows, add one new axis called new column with same elements. \n",
    "np.shape(aq)  # Output is (4, 1) -> 2-D array.\n",
    "print(aq)     # See the output. \n",
    "\n",
    "# We can use np.newaxis method to convert one dimensional array to two dimensional array. \n",
    "\n",
    "print()"
   ]
  },
  {
   "cell_type": "code",
   "execution_count": null,
   "metadata": {},
   "outputs": [],
   "source": [
    "# Array Manipulation:\n",
    "\n",
    "  # Flattening:  (Important operator used extensively in data science.)\n",
    "              # (Converting 2-D array into 1-D array)\n",
    "\n",
    "yu = np.array([[1,2,3],[5,6,1]])\n",
    "np.ravel(yu)   # Output is array([1, 2, 3, 5, 6, 1])\n",
    "\n",
    "yu.T           # See the output.\n",
    "np.ravel(yu.T) # Output is array([1, 5, 2, 6, 3, 1])"
   ]
  },
  {
   "cell_type": "code",
   "execution_count": null,
   "metadata": {},
   "outputs": [],
   "source": [
    "# Reshaping:\n",
    "    # Reshaping is the inverse operation of flattening:\n",
    "yu = np.array([[1,2,3],[5,6,1]])\n",
    "print(yu)           # See the output that is original\n",
    "\n",
    "np.ravel(yu)        # Output: array([1, 2, 3, 5, 6, 1])\n",
    "\n",
    "  # Now - Reshaping is the operation we used to reshape the array as we like by giving shape values.\n",
    "uk = np.reshape(np.ravel(yu),(2,3))\n",
    "print(uk)           # See the output now - we made it like its original shape. \n",
    "\n",
    "uk[0,0] = 100       # Assigning values\n",
    "print(uk)\n",
    "\n",
    "# Note & Beware : Reshape may also return a copy!"
   ]
  },
  {
   "cell_type": "code",
   "execution_count": null,
   "metadata": {},
   "outputs": [],
   "source": [
    "# Adding a dimension:\n",
    "   # Indexing with the np.newaxis object allow us to add an axis to an array.\n",
    "   # newaxis is used to increase the dimension of the existing array by one more dimension, when used once. \n",
    "\n",
    " # Dimension Suffling: \n",
    "\n",
    "mj = np.arange(4*3*2) # Means np.arange(24)\n",
    "print(mj)\n",
    "\n",
    "mj1 = np.arange(4*3*2).reshape(4,3,2)  # Means I need 4 matices with 3 rows and 2 columns. See output. \n",
    "print(mj1)                            # Whole 1st matrix index starts as O. 2nd Matrix index is 1 and so on. \n",
    "\n",
    "mj1[0,2,1]   # output is 5. "
   ]
  },
  {
   "cell_type": "code",
   "execution_count": null,
   "metadata": {},
   "outputs": [],
   "source": [
    "# Resizing: \n",
    "\n",
    "A = np.arange(6) \n",
    "A.resize((8))   # Note the format.\n",
    "print(A)        # Printed remaining every element as 0. \n",
    "\n",
    "# Note here we only referred one variable itself to resize it. \n",
    "# Cant include other variables. Else it will showing error. "
   ]
  },
  {
   "cell_type": "code",
   "execution_count": null,
   "metadata": {},
   "outputs": [],
   "source": [
    "# Sorting Data:\n",
    "\n",
    "  # Sorting along an axis:\n",
    "nm = np.array([[3,2,1],[5,4,6]])\n",
    "ja = np.sort(nm, axis=1)  # See the output. Sorted from smallest to Largest. \n",
    "ja\n",
    "\n",
    "   # in-place sort:\n",
    "nm.sort(axis = 1)   # We can try in-place sort also to obtaining the same result. \n",
    "nm\n",
    "\n",
    "   # Sorting with fancy indexing:\n",
    "fe = np.array([4,3,5,1])\n",
    "fj = np.argsort(fe)\n",
    "print(fj)"
   ]
  },
  {
   "cell_type": "code",
   "execution_count": null,
   "metadata": {},
   "outputs": [],
   "source": [
    "#   MODULE 5 : MATPLOTLIB\n",
    "\n",
    "    # matplotlib.pyplot is a collection of command style functions that make matplotlib works like MATLAB.\n",
    "    # Each pyplot function makes some changes to a figure: \n",
    "    # eg., creates a figure, creates a plotting area in a figure, plots some lines in a plotting area, decorate the plot with labels, etc., \n",
    "\n",
    "import matplotlib.pyplot as plt\n",
    "\n",
    "plt.plot([2,4,6,4])   # Automatically considered the values for axis Y. So these values are for Y.\n",
    "plt.ylabel('Numbers')\n",
    "plt.xlabel('Indices')\n",
    "plt.title('MyPlot')\n",
    "plt.show()\n"
   ]
  },
  {
   "cell_type": "code",
   "execution_count": null,
   "metadata": {},
   "outputs": [],
   "source": [
    "# plot x versus y\n",
    "\n",
    "plt.plot([1,2,3,4],[1,4,9,16])    # It consideres first list as x and second list as y.\n",
    "plt.ylabel('squares')\n",
    "plt.xlabel('numbers')\n",
    "plt.grid()    # grids on \n",
    "plt.show()\n"
   ]
  },
  {
   "cell_type": "code",
   "execution_count": null,
   "metadata": {},
   "outputs": [],
   "source": [
    "plt.plot([1,2,3,4],[1,4,9,16], 'ro')    # It indicates the color red wit o shape means round shape. \n",
    "plt.grid()    # grids on \n",
    "plt.show()\n"
   ]
  },
  {
   "cell_type": "code",
   "execution_count": null,
   "metadata": {},
   "outputs": [],
   "source": [
    "import numpy as np\n",
    "za = np.arange(0.0 , 5.0, 0.2)   # starting from 0.0, 0.2,0.4..... 4.8)\n",
    "print(za)\n",
    "\n",
    "# Blue Dases, Red Squares, Green Triangles. \n",
    "\n",
    "plt.plot([1,2,3,4],[1,4,9,16])    # It consideres first list as x and second list as y.\n",
    "plt.plot(za, za**2, 'b--', label = '^2')      # blue dash; labels are connected to Legend.\n",
    "plt.plot(za, za**2.2, 'rs', label = '^2.2')   # red squares ; labels are connected to Legend.\n",
    "plt.plot(za, za**2.5, 'g^', label = '^2.5')   # green triangles ; labels are connected to Legend.\n",
    "plt.grid()    # grids on \n",
    "plt.legend()\n",
    "plt.show()\n"
   ]
  },
  {
   "cell_type": "code",
   "execution_count": null,
   "metadata": {},
   "outputs": [],
   "source": [
    "# Controlling line properties: \n",
    "\n",
    "import matplotlib.pyplot as plt\n",
    "x = [1,2,3,4]\n",
    "y = [1,4,9,16]\n",
    "plt.plot(x,y,linewidth = 5.0) \n",
    "plt.show()"
   ]
  },
  {
   "cell_type": "code",
   "execution_count": null,
   "metadata": {},
   "outputs": [],
   "source": [
    "# use the setp (Set properties)\n",
    "x1 = [1,2,3,4]\n",
    "y1 = [1,4,9,16]\n",
    "x2 = [1,2,3,4]\n",
    "y2 = [2,4,6,8]\n",
    "lines = plt.plot(x1,y1, x2,y2)\n",
    "\n",
    " # Use keyword args:\n",
    "plt.setp( lines[0], color = 'r',linewidth = 2.0)\n",
    "plt.setp(lines[1], 'color', 'g',linewidth = 2.0)\n",
    "plt.grid()\n",
    "plt.show"
   ]
  },
  {
   "cell_type": "code",
   "execution_count": null,
   "metadata": {},
   "outputs": [],
   "source": [
    "# Working with multiple figures and axes: \n",
    "\n",
    "def f(t):\n",
    "    return np.exp(-t) * np.cos(2*np.pi*t)\n",
    "\n",
    "t1 = np.arange(0.0,5.0,0.1)\n",
    "t2 = np.arange(0.0,5.0,0.02)\n",
    "plt.figure(1)\n",
    "\n",
    "# The subplot() command specifies numrows, numcols.\n",
    "# fignum is fignum ranges from 1 to numrows*numcols\n",
    "\n",
    "plt.subplot(211)\n",
    "plt.grid()\n",
    "plt.plot(t1, f(t1), 'b-')\n",
    "\n",
    "plt.subplot(212)  # numofrows, numofcol, (2)drew as second figure.\n",
    "plt.plot(t2, np.cos(2*np.pi*t2),'r--')\n",
    "plt.show()\n"
   ]
  },
  {
   "cell_type": "code",
   "execution_count": null,
   "metadata": {},
   "outputs": [],
   "source": [
    "plt.figure(1)           # The first figure\n",
    "plt.subplot(211)        # The first subplot in the first figure\n",
    "plt.plot([1,2,3])\n",
    "plt.subplot(212)        # The first subplot in the first figure\n",
    "plt.plot([4,5,6])\n",
    "\n",
    "plt.figure(2)           # Te second figure\n",
    "plt.plot([4,5,6])       # Creates a subplot (111) by default\n",
    "\n",
    "plt.figure(1)           # Figure 1 current; subplot(212) still current\n",
    "plt.subplot(211)        # Make subplot (211) in figural current\n",
    "plt.title('Easy as 1,2,3')   # Subplot 211 title.\n",
    "plt.show()"
   ]
  },
  {
   "cell_type": "code",
   "execution_count": 67,
   "metadata": {},
   "outputs": [],
   "source": [
    "# MODULE - 6 PANDAS \n",
    "\n",
    "   # Pandas in Python module that makes data science easy and effective. \n",
    "\n",
    "import pandas as pd\n",
    "\n",
    "#df = pd.read_csv('nyc.weater.csv')\n",
    "# df['Temperature'].max()    - get the maximum temperature.\n",
    "# df['EST'] [df['Events'] == 'Rain']       - to know which day it rains. (Note the syntax). here EST column reffering dates.\n",
    "# df['WindSpeedMPH'].mean ()     - to get the average wind speed."
   ]
  },
  {
   "cell_type": "code",
   "execution_count": null,
   "metadata": {},
   "outputs": [],
   "source": [
    " # INTRODUCTION TO PANDAS DATAFRAME:\n",
    "  \n",
    "      # Dataframe is  a main object in pandas. It is used to represent data with rows and columns. \n",
    "      # Dataframe is a data structure represent the data in tabular or excel spread sheet like data. \n",
    "\n",
    "  # Creating dataframe: \n",
    "\n",
    "import pandas as pd\n",
    "\n",
    "#df = pd.read_csv('weater_data.csv')   - if we have csv file in our local, we can get it by this method. \n",
    "# print(df)\n",
    "\n",
    "# list of tuples:\n",
    "weater_data = [('1/1/2017', 32, 6, 'Rain'),\n",
    "               ('1/2/2017', 35, 7, 'Sunny'),\n",
    "               ('1/3/2017', 28, 2, 'Snow'),\n",
    "               ('1/4/2017', 24, 7, 'Snow'),\n",
    "               ('1/5/2017', 32, 4, 'Rain'),\n",
    "               ('1/6/2017', 31, 2, 'Sunny')]\n",
    "df = pd.DataFrame(weater_data, columns = ['Day', 'Temperature', 'Windspeed', 'Event'])\n",
    "print(df)\n",
    "\n",
    "# get dimensions of the table:\n",
    "df.shape       # Output is (6, 4)\n",
    "\n",
    "df.tail()    # returns last five line items. \n",
    "df.head()    # returns first five line items. \n"
   ]
  },
  {
   "cell_type": "code",
   "execution_count": null,
   "metadata": {},
   "outputs": [],
   "source": [
    "df[2:5]    # Slicing\n",
    "\n",
    "df.columns # Print column names in a table\n",
    "# Output is Index(['Day', 'Temperature', 'Windspeed', 'Event'], dtype='object')\n",
    "\n",
    "df.Day  # Print particular column data\n",
    "df['Day'] # This also returns the same result. Both are same only.\n",
    "\n",
    "df[['Day','Event']]   # If we want to get two or more columns. \n",
    "# Note to write this in double square brackets. \n",
    "\n",
    "df.Temperature\n",
    "df['Temperature'].max()   # Output is 35\n",
    "df['Temperature'].min()   # Output is 24.\n",
    "df['Temperature'].describe()   # Check the output. \n"
   ]
  },
  {
   "cell_type": "code",
   "execution_count": null,
   "metadata": {},
   "outputs": [],
   "source": [
    "# Select rows that as maximum temperature\n",
    "\n",
    "df[df['Temperature'] == df['Temperature'].max()] # here initial df alone represent everything in a dataframe.\n",
    "\n",
    "# Select only day column that as maximum temperature.\n",
    "\n",
    "df.Day[df['Temperature'] == df['Temperature'].max()]  # here initial df.Day alone represent only Day column in a dataframe."
   ]
  },
  {
   "cell_type": "code",
   "execution_count": null,
   "metadata": {},
   "outputs": [],
   "source": [
    "# Read and write CSV and XLS files:  (if not installed, try pip install xlrd)\n",
    "\n",
    "df1 = pd.read_excel('D:\\Learnings and all/Weater_data.xlsx')\n",
    "print(df1)"
   ]
  },
  {
   "cell_type": "code",
   "execution_count": null,
   "metadata": {},
   "outputs": [],
   "source": [
    "# here we stored the same data in df -  through passin the values into the list of tuples and then via excel.\n",
    "# Can we write the weather data into new csv file? Yes. \n",
    "\n",
    "df2 = df.to_csv('new.csv')\n",
    "print(df2)   \n",
    "# Do not know why output showing as NONE. \n",
    "# Output showing will be same as df but it will automatically adding the index at the beginning. \n",
    "\n",
    "# To get the output without showing the index, we can write as below:\n",
    "df3 = df.to_csv('new_no_index.csv', index= False)\n",
    "print(df3)  \n",
    "# Do not know why output showing as NONE. \n",
    "# Output showing will be same as df but it excludes adding the index at the beginning. \n",
    "\n",
    "# Similarly - we can write df to new excel by the followin method: (if not installed, try pip install openpyx)\n",
    "df4 = df1.to_excel('new.xlsx', sheet_name= 'Weater_data.xlsx')\n",
    "print(df4)\n",
    "# Do not know why output showing as NONE. \n",
    "# Output showing will be same as df but it will automatically adding the index at the beginning. "
   ]
  },
  {
   "cell_type": "code",
   "execution_count": null,
   "metadata": {},
   "outputs": [],
   "source": [
    "weather_data_cities = [('1/1/2017', 'NewYork',  32, 6, 'Rain'),\n",
    "               ('1/2/2017', 'NewYork',  36, 7, 'Sunny'),\n",
    "               ('1/3/2017', 'NewYork',  28, 12, 'Snow'),\n",
    "               ('1/4/2017', 'NewYork',  33, 7, 'Sunny'),\n",
    "               ('1/1/2017', 'Mumbai',   90, 5, 'Sunny'),\n",
    "               ('1/2/2017', 'Mumbai',   85, 12, 'Fog'),\n",
    "               ('1/3/2017', 'Mumbai',   87, 15, 'Fog'),\n",
    "               ('1/4/2017', 'Mumbai',   92,  5, 'Rain'),\n",
    "               ('1/1/2017', 'Paris',    45, 20, 'Sunny'),\n",
    "               ('1/2/2017', 'Paris',    50, 13, 'Cloudy'),\n",
    "               ('1/3/2017', 'Paris',    54, 8, 'Cloudy'),\n",
    "               ('1/4/2017', 'Paris',    42, 10, 'Cloudy')]\n",
    "\n",
    "df5 = pd.DataFrame(weather_data_cities, columns = ['Day','City' ,'Temperature', 'Windspeed', 'Event'])\n",
    "print(df5)\n",
    "\n",
    "# group-by functions:\n",
    "g = df5.groupby('City')\n",
    "print(g)\n",
    "# Output is <pandas.core.groupby.generic.DataFrameGroupBy object at 0x00000151D6560390>"
   ]
  },
  {
   "cell_type": "code",
   "execution_count": null,
   "metadata": {},
   "outputs": [],
   "source": [
    "for city, city_df in g:\n",
    "    print(city)\n",
    "    print(city_df)   # Important.\n",
    "\n",
    "# Note the indices in output. It showing correspondently."
   ]
  },
  {
   "cell_type": "code",
   "execution_count": null,
   "metadata": {},
   "outputs": [],
   "source": [
    "# To get the specific row details. Use (get_group) method - it will get all details of that group. \n",
    "\n",
    "g.get_group('NewYork')   \n",
    "\n",
    "# Find max temperature in each of the cities:\n",
    "print(g.max())   # here g already is a groupby variable of cities. \n",
    "                 # Max tooks the numerical values that is in the columns of Temperature and Windspeed. \n",
    "                 # It gives max value of individual cities that was already groupby. "
   ]
  },
  {
   "cell_type": "code",
   "execution_count": null,
   "metadata": {},
   "outputs": [],
   "source": [
    "print(g.describe())"
   ]
  },
  {
   "cell_type": "code",
   "execution_count": null,
   "metadata": {},
   "outputs": [],
   "source": [
    "print(g[['Temperature', 'Windspeed']].mean())"
   ]
  },
  {
   "cell_type": "code",
   "execution_count": null,
   "metadata": {},
   "outputs": [],
   "source": [
    "# Concatenate dataframes: \n",
    "\n",
    "India_Weather = pd.DataFrame({'City': ['Mumbai','Deli','Banalore'],\n",
    "                            'Temperature' : [21,14,35],\n",
    "                            'Humidity' : [80,60,78]}) \n",
    "print(India_Weather)\n",
    "\n",
    "Us_Weather = pd.DataFrame({'City': ['NewYork','Cicao','Orlando'],\n",
    "                            'Temperature' : [32,40,30],\n",
    "                            'Humidity' : [68,65,75]}) \n",
    "print(Us_Weather)\n",
    "\n",
    "con = pd.concat([India_Weather,Us_Weather])\n",
    "print(con)\n",
    "\n",
    "# If you want continuous index: \n",
    "con1 = pd.concat([India_Weather,Us_Weather], ignore_index= True)\n",
    "print(con1)"
   ]
  },
  {
   "cell_type": "code",
   "execution_count": null,
   "metadata": {},
   "outputs": [],
   "source": [
    "# If you want all in not row-wise but column wise - add axis parameter. \n",
    "\n",
    "conax = pd.concat([India_Weather,Us_Weather], axis=1)\n",
    "print(conax)"
   ]
  },
  {
   "cell_type": "code",
   "execution_count": null,
   "metadata": {},
   "outputs": [],
   "source": [
    "# Merge Dataframes:\n",
    "\n",
    "Temperature_df = pd.DataFrame({'City': ['Mumbai','Deli','Banalore','Hydrabad'],\n",
    "                            'Temperature' : [32,45,30,20]}) \n",
    "print(Temperature_df)\n",
    "\n",
    "Humidity_df = pd.DataFrame({'City': ['Deli','Mumbai','Banalore'],\n",
    "                            'Humidity' : [68,65,75]}) \n",
    "print(Humidity_df)\n",
    "\n",
    "# Merge two dataframes without explicitly mention index:\n",
    "   # Note that Merge function needs one common column and we need to mention it by adding ON parameter.\n",
    "   # Unmatched values in common column will be excluded here. \n",
    "   # This operation is called as JOIN operation in SQL.\n",
    "\n",
    "conMer = pd.merge(Temperature_df,Humidity_df, on= 'City')\n",
    "print(conMer)\n",
    "\n",
    "    # If you want to INCLUDE that unmatched value in the common column, you can do it by adding HOW operation:\n",
    "conMer1 = pd.merge(Temperature_df,Humidity_df, on= 'City', how = 'outer')\n",
    "print(conMer1)"
   ]
  },
  {
   "cell_type": "code",
   "execution_count": null,
   "metadata": {},
   "outputs": [],
   "source": [
    "# Numerical Indexing: \n",
    "\n",
    "df6 = pd.DataFrame([1,2,3,4,5,6,7,8,9,19], index = [49,48,47,46,45,1,2,3,4,5])\n",
    "print(df6)"
   ]
  },
  {
   "cell_type": "code",
   "execution_count": null,
   "metadata": {},
   "outputs": [],
   "source": [
    "# loc & iloc\n",
    "\n",
    "df6.loc[46]   # LOC finding the value for the (our own customized index) 46. \n",
    "df6.iloc[3]  # This also returns the same result. ILOC used to finding the  default proram index of 3. (Row index number)"
   ]
  },
  {
   "cell_type": "code",
   "execution_count": null,
   "metadata": {},
   "outputs": [],
   "source": [
    "df6.loc[:2]    # Returns value until the customized index (LOC usually looking on customized index)\n",
    "df6.iloc[:2]"
   ]
  },
  {
   "cell_type": "code",
   "execution_count": null,
   "metadata": {},
   "outputs": [],
   "source": [
    "# SPACE AND TIME COMPLEXITY: \n",
    "\n",
    "   # Going to saw just an introduction here in first chapter. This is a vast concept actually.\n",
    "   # This concept actually measures/ quantifies the time and space taken by a program/ algorithym / solution.\n",
    "   # It does n number of comparisons in a list for the query that we written.\n",
    "\n",
    "   # list -> n elements; \n",
    "   # Problem : Check each elements in list L sequentially\n",
    "   # Query: how many comparisions needed? \n",
    "      # Answer is 1 is the best case\n",
    "      # Answer is approximately n is the averae case\n",
    "      # Answer is n comparisions are the worst case. \n",
    "\n",
    "   # As n (list elements) increases, the number of comparisons also increases proportionally to n."
   ]
  },
  {
   "cell_type": "code",
   "execution_count": null,
   "metadata": {},
   "outputs": [],
   "source": [
    "import numpy as np\n",
    "import random\n",
    "\n",
    "sat = list(range(100))\n",
    "random.shuffle(sat)\n",
    "print(sat)           \n",
    "\n",
    "# Remember here sat is not sorted one. Its a suffled random numbers until 100.\n",
    "# Lets say as example: if 1 unit of time that may be anything.. millisecond, microsecond, nanosecond etc.. of computation. "
   ]
  },
  {
   "cell_type": "code",
   "execution_count": null,
   "metadata": {},
   "outputs": [],
   "source": [
    "# # 4n+4 ~ This is the time units for the below written code. Time complextion for this is O(n) \n",
    "# Time complexity always proportional to n. We can also say this as  Time complex:O(n). (That means order of n).\n",
    "# search of an element q1 in the list; O(n) were n is the lenght of the list. \n",
    "\n",
    "qw = 30\n",
    "isFound = False;\n",
    "for ele in sat:\n",
    "    if ele == 30:\n",
    "        print(\"Found\")\n",
    "        isFound = True\n",
    "        break;\n",
    "if isFound == False:\n",
    "    print(\"Not Found\")"
   ]
  },
  {
   "cell_type": "code",
   "execution_count": null,
   "metadata": {},
   "outputs": [],
   "source": [
    "# Always taking the largest form  inside the  O(). \n",
    "# Example: O(n), O(n^2), O(n^3),.. , O(log1), O(1)\n",
    "# 5 *1. here 5 is constant. 1 is always the form that comes inside O(1)"
   ]
  },
  {
   "cell_type": "code",
   "execution_count": null,
   "metadata": {},
   "outputs": [],
   "source": [
    "# BINARY SEARCH: \n",
    "\n",
    "  # O(n) time & O(1) space <- sequential search. \n",
    "  # Question is can we reduce it? Yes. \n",
    "  # Log(n) is always lesser than or equal to 1. \n",
    "  # Example: n= 2; log base 2 of n = 1. Similarly if n= 4; log base 2 of n = 1 \n",
    "\n",
    "  # List needs to be sorted.\n",
    "  # Middle = (Left + Right) /2. \n",
    "  # (go through a bit detailed screenshots that are pasted in the document.)\n",
    "\n",
    "# Dictionary in Python is noting but an implementation of HashMaps or HashTables."
   ]
  },
  {
   "cell_type": "code",
   "execution_count": null,
   "metadata": {},
   "outputs": [],
   "source": []
  },
  {
   "cell_type": "code",
   "execution_count": null,
   "metadata": {},
   "outputs": [],
   "source": []
  },
  {
   "cell_type": "code",
   "execution_count": null,
   "metadata": {},
   "outputs": [],
   "source": []
  },
  {
   "cell_type": "code",
   "execution_count": null,
   "metadata": {},
   "outputs": [],
   "source": []
  },
  {
   "cell_type": "code",
   "execution_count": null,
   "metadata": {},
   "outputs": [],
   "source": []
  },
  {
   "cell_type": "code",
   "execution_count": null,
   "metadata": {},
   "outputs": [],
   "source": []
  },
  {
   "cell_type": "code",
   "execution_count": null,
   "metadata": {},
   "outputs": [],
   "source": []
  }
 ],
 "metadata": {
  "kernelspec": {
   "display_name": "Python 3",
   "language": "python",
   "name": "python3"
  },
  "language_info": {
   "codemirror_mode": {
    "name": "ipython",
    "version": 3
   },
   "file_extension": ".py",
   "mimetype": "text/x-python",
   "name": "python",
   "nbconvert_exporter": "python",
   "pygments_lexer": "ipython3",
   "version": "3.11.9"
  }
 },
 "nbformat": 4,
 "nbformat_minor": 2
}
